{
 "cells": [
  {
   "cell_type": "markdown",
   "id": "b43c9c61",
   "metadata": {},
   "source": [
    "# Exploratory Data Analysis"
   ]
  },
  {
   "cell_type": "code",
   "execution_count": 1,
   "id": "a77acb01",
   "metadata": {},
   "outputs": [],
   "source": [
    "#import csv\n",
    "import pandas as pd\n",
    "import numpy as np\n",
    "import os\n",
    "import matplotlib.pyplot as plt"
   ]
  },
  {
   "cell_type": "code",
   "execution_count": 2,
   "id": "d5ec519c",
   "metadata": {},
   "outputs": [],
   "source": [
    "path = 'data'\n",
    "filename = 'two-years-recid.csv'\n",
    "\n",
    "df = pd.read_csv(os.path.join(path, filename))"
   ]
  },
  {
   "cell_type": "code",
   "execution_count": 28,
   "id": "275199e6",
   "metadata": {},
   "outputs": [
    {
     "data": {
      "text/html": [
       "<div>\n",
       "<style scoped>\n",
       "    .dataframe tbody tr th:only-of-type {\n",
       "        vertical-align: middle;\n",
       "    }\n",
       "\n",
       "    .dataframe tbody tr th {\n",
       "        vertical-align: top;\n",
       "    }\n",
       "\n",
       "    .dataframe thead th {\n",
       "        text-align: right;\n",
       "    }\n",
       "</style>\n",
       "<table border=\"1\" class=\"dataframe\">\n",
       "  <thead>\n",
       "    <tr style=\"text-align: right;\">\n",
       "      <th></th>\n",
       "      <th>c_jail_in</th>\n",
       "      <th>c_offense_date</th>\n",
       "      <th>c_arrest_date</th>\n",
       "      <th>c_charge_degree</th>\n",
       "      <th>c_charge_desc</th>\n",
       "      <th>juv_fel_count</th>\n",
       "      <th>juv_misd_count</th>\n",
       "      <th>juv_other_count</th>\n",
       "      <th>priors_count</th>\n",
       "      <th>compas_screening_date</th>\n",
       "      <th>...</th>\n",
       "      <th>r_case_number</th>\n",
       "      <th>r_offense_date</th>\n",
       "      <th>r_charge_degree</th>\n",
       "      <th>r_charge_desc</th>\n",
       "      <th>is_violent_recid</th>\n",
       "      <th>vr_case_number</th>\n",
       "      <th>vr_offense_date</th>\n",
       "      <th>vr_charge_degree</th>\n",
       "      <th>vr_charge_desc</th>\n",
       "      <th>two_year_recid</th>\n",
       "    </tr>\n",
       "  </thead>\n",
       "  <tbody>\n",
       "    <tr>\n",
       "      <th>6104</th>\n",
       "      <td>2013-12-29 12:19:56</td>\n",
       "      <td>2013-12-28</td>\n",
       "      <td>NaN</td>\n",
       "      <td>F</td>\n",
       "      <td>Poss F/Arm Delinq</td>\n",
       "      <td>0</td>\n",
       "      <td>0</td>\n",
       "      <td>1</td>\n",
       "      <td>3</td>\n",
       "      <td>2013-12-29</td>\n",
       "      <td>...</td>\n",
       "      <td>14014058CF10A</td>\n",
       "      <td>2014-10-18</td>\n",
       "      <td>(F3)</td>\n",
       "      <td>Possession Of Methamphetamine</td>\n",
       "      <td>0</td>\n",
       "      <td>NaN</td>\n",
       "      <td>NaN</td>\n",
       "      <td>NaN</td>\n",
       "      <td>NaN</td>\n",
       "      <td>1</td>\n",
       "    </tr>\n",
       "    <tr>\n",
       "      <th>6105</th>\n",
       "      <td>2014-01-26 05:38:03</td>\n",
       "      <td>2014-01-26</td>\n",
       "      <td>NaN</td>\n",
       "      <td>F</td>\n",
       "      <td>Felony Battery (Dom Strang)</td>\n",
       "      <td>0</td>\n",
       "      <td>0</td>\n",
       "      <td>3</td>\n",
       "      <td>0</td>\n",
       "      <td>2014-01-26</td>\n",
       "      <td>...</td>\n",
       "      <td>15002157MM10A</td>\n",
       "      <td>2015-02-21</td>\n",
       "      <td>(M1)</td>\n",
       "      <td>Possess Cannabis/20 Grams Or Less</td>\n",
       "      <td>0</td>\n",
       "      <td>NaN</td>\n",
       "      <td>NaN</td>\n",
       "      <td>NaN</td>\n",
       "      <td>NaN</td>\n",
       "      <td>1</td>\n",
       "    </tr>\n",
       "    <tr>\n",
       "      <th>6106</th>\n",
       "      <td>2014-11-18 01:22:13</td>\n",
       "      <td>2014-11-18</td>\n",
       "      <td>NaN</td>\n",
       "      <td>M</td>\n",
       "      <td>Criminal Mischief Damage &lt;$200</td>\n",
       "      <td>0</td>\n",
       "      <td>0</td>\n",
       "      <td>0</td>\n",
       "      <td>0</td>\n",
       "      <td>2014-11-19</td>\n",
       "      <td>...</td>\n",
       "      <td>16000229MM10A</td>\n",
       "      <td>2015-07-19</td>\n",
       "      <td>(M1)</td>\n",
       "      <td>Battery</td>\n",
       "      <td>1</td>\n",
       "      <td>16000229MM10A</td>\n",
       "      <td>2015-07-19</td>\n",
       "      <td>(M1)</td>\n",
       "      <td>Battery</td>\n",
       "      <td>1</td>\n",
       "    </tr>\n",
       "    <tr>\n",
       "      <th>6107</th>\n",
       "      <td>2013-05-03 11:05:54</td>\n",
       "      <td>2013-05-03</td>\n",
       "      <td>NaN</td>\n",
       "      <td>M</td>\n",
       "      <td>Prostitution/Lewdness/Assign</td>\n",
       "      <td>0</td>\n",
       "      <td>0</td>\n",
       "      <td>0</td>\n",
       "      <td>0</td>\n",
       "      <td>2013-05-04</td>\n",
       "      <td>...</td>\n",
       "      <td>13008504CF10A</td>\n",
       "      <td>2013-06-15</td>\n",
       "      <td>(F3)</td>\n",
       "      <td>Possession of Cocaine</td>\n",
       "      <td>0</td>\n",
       "      <td>NaN</td>\n",
       "      <td>NaN</td>\n",
       "      <td>NaN</td>\n",
       "      <td>NaN</td>\n",
       "      <td>1</td>\n",
       "    </tr>\n",
       "    <tr>\n",
       "      <th>6108</th>\n",
       "      <td>2014-03-18 07:02:52</td>\n",
       "      <td>2014-03-18</td>\n",
       "      <td>NaN</td>\n",
       "      <td>M</td>\n",
       "      <td>Battery</td>\n",
       "      <td>0</td>\n",
       "      <td>0</td>\n",
       "      <td>0</td>\n",
       "      <td>2</td>\n",
       "      <td>2014-03-19</td>\n",
       "      <td>...</td>\n",
       "      <td>NaN</td>\n",
       "      <td>NaN</td>\n",
       "      <td>NaN</td>\n",
       "      <td>NaN</td>\n",
       "      <td>0</td>\n",
       "      <td>NaN</td>\n",
       "      <td>NaN</td>\n",
       "      <td>NaN</td>\n",
       "      <td>NaN</td>\n",
       "      <td>0</td>\n",
       "    </tr>\n",
       "    <tr>\n",
       "      <th>6109</th>\n",
       "      <td>2013-08-18 07:25:24</td>\n",
       "      <td>2013-08-18</td>\n",
       "      <td>NaN</td>\n",
       "      <td>M</td>\n",
       "      <td>Battery</td>\n",
       "      <td>0</td>\n",
       "      <td>0</td>\n",
       "      <td>0</td>\n",
       "      <td>1</td>\n",
       "      <td>2013-08-19</td>\n",
       "      <td>...</td>\n",
       "      <td>NaN</td>\n",
       "      <td>NaN</td>\n",
       "      <td>NaN</td>\n",
       "      <td>NaN</td>\n",
       "      <td>0</td>\n",
       "      <td>NaN</td>\n",
       "      <td>NaN</td>\n",
       "      <td>NaN</td>\n",
       "      <td>NaN</td>\n",
       "      <td>0</td>\n",
       "    </tr>\n",
       "    <tr>\n",
       "      <th>6110</th>\n",
       "      <td>2013-03-23 01:32:34</td>\n",
       "      <td>2013-03-23</td>\n",
       "      <td>NaN</td>\n",
       "      <td>M</td>\n",
       "      <td>Possess Cannabis/20 Grams Or Less</td>\n",
       "      <td>0</td>\n",
       "      <td>0</td>\n",
       "      <td>0</td>\n",
       "      <td>4</td>\n",
       "      <td>2013-03-24</td>\n",
       "      <td>...</td>\n",
       "      <td>NaN</td>\n",
       "      <td>NaN</td>\n",
       "      <td>NaN</td>\n",
       "      <td>NaN</td>\n",
       "      <td>0</td>\n",
       "      <td>NaN</td>\n",
       "      <td>NaN</td>\n",
       "      <td>NaN</td>\n",
       "      <td>NaN</td>\n",
       "      <td>0</td>\n",
       "    </tr>\n",
       "    <tr>\n",
       "      <th>6111</th>\n",
       "      <td>2013-09-29 09:25:30</td>\n",
       "      <td>2013-09-29</td>\n",
       "      <td>NaN</td>\n",
       "      <td>F</td>\n",
       "      <td>Felony Driving While Lic Suspd</td>\n",
       "      <td>0</td>\n",
       "      <td>0</td>\n",
       "      <td>0</td>\n",
       "      <td>0</td>\n",
       "      <td>2013-09-30</td>\n",
       "      <td>...</td>\n",
       "      <td>NaN</td>\n",
       "      <td>NaN</td>\n",
       "      <td>NaN</td>\n",
       "      <td>NaN</td>\n",
       "      <td>0</td>\n",
       "      <td>NaN</td>\n",
       "      <td>NaN</td>\n",
       "      <td>NaN</td>\n",
       "      <td>NaN</td>\n",
       "      <td>0</td>\n",
       "    </tr>\n",
       "    <tr>\n",
       "      <th>6112</th>\n",
       "      <td>2013-10-30 03:40:14</td>\n",
       "      <td>NaN</td>\n",
       "      <td>2013-10-30</td>\n",
       "      <td>M</td>\n",
       "      <td>arrest case no charge</td>\n",
       "      <td>0</td>\n",
       "      <td>0</td>\n",
       "      <td>0</td>\n",
       "      <td>3</td>\n",
       "      <td>2013-10-31</td>\n",
       "      <td>...</td>\n",
       "      <td>NaN</td>\n",
       "      <td>NaN</td>\n",
       "      <td>NaN</td>\n",
       "      <td>NaN</td>\n",
       "      <td>0</td>\n",
       "      <td>NaN</td>\n",
       "      <td>NaN</td>\n",
       "      <td>NaN</td>\n",
       "      <td>NaN</td>\n",
       "      <td>0</td>\n",
       "    </tr>\n",
       "    <tr>\n",
       "      <th>6113</th>\n",
       "      <td>2013-01-08 01:30:33</td>\n",
       "      <td>NaN</td>\n",
       "      <td>2013-01-08</td>\n",
       "      <td>F</td>\n",
       "      <td>arrest case no charge</td>\n",
       "      <td>0</td>\n",
       "      <td>0</td>\n",
       "      <td>0</td>\n",
       "      <td>1</td>\n",
       "      <td>2013-01-09</td>\n",
       "      <td>...</td>\n",
       "      <td>14006980MM10A</td>\n",
       "      <td>2014-04-27</td>\n",
       "      <td>(M2)</td>\n",
       "      <td>Petit Theft</td>\n",
       "      <td>0</td>\n",
       "      <td>NaN</td>\n",
       "      <td>NaN</td>\n",
       "      <td>NaN</td>\n",
       "      <td>NaN</td>\n",
       "      <td>1</td>\n",
       "    </tr>\n",
       "  </tbody>\n",
       "</table>\n",
       "<p>10 rows × 27 columns</p>\n",
       "</div>"
      ],
      "text/plain": [
       "                c_jail_in c_offense_date c_arrest_date c_charge_degree  \\\n",
       "6104  2013-12-29 12:19:56     2013-12-28           NaN               F   \n",
       "6105  2014-01-26 05:38:03     2014-01-26           NaN               F   \n",
       "6106  2014-11-18 01:22:13     2014-11-18           NaN               M   \n",
       "6107  2013-05-03 11:05:54     2013-05-03           NaN               M   \n",
       "6108  2014-03-18 07:02:52     2014-03-18           NaN               M   \n",
       "6109  2013-08-18 07:25:24     2013-08-18           NaN               M   \n",
       "6110  2013-03-23 01:32:34     2013-03-23           NaN               M   \n",
       "6111  2013-09-29 09:25:30     2013-09-29           NaN               F   \n",
       "6112  2013-10-30 03:40:14            NaN    2013-10-30               M   \n",
       "6113  2013-01-08 01:30:33            NaN    2013-01-08               F   \n",
       "\n",
       "                          c_charge_desc  juv_fel_count  juv_misd_count  \\\n",
       "6104                  Poss F/Arm Delinq              0               0   \n",
       "6105        Felony Battery (Dom Strang)              0               0   \n",
       "6106     Criminal Mischief Damage <$200              0               0   \n",
       "6107       Prostitution/Lewdness/Assign              0               0   \n",
       "6108                            Battery              0               0   \n",
       "6109                            Battery              0               0   \n",
       "6110  Possess Cannabis/20 Grams Or Less              0               0   \n",
       "6111     Felony Driving While Lic Suspd              0               0   \n",
       "6112              arrest case no charge              0               0   \n",
       "6113              arrest case no charge              0               0   \n",
       "\n",
       "      juv_other_count  priors_count compas_screening_date  ...  r_case_number  \\\n",
       "6104                1             3            2013-12-29  ...  14014058CF10A   \n",
       "6105                3             0            2014-01-26  ...  15002157MM10A   \n",
       "6106                0             0            2014-11-19  ...  16000229MM10A   \n",
       "6107                0             0            2013-05-04  ...  13008504CF10A   \n",
       "6108                0             2            2014-03-19  ...            NaN   \n",
       "6109                0             1            2013-08-19  ...            NaN   \n",
       "6110                0             4            2013-03-24  ...            NaN   \n",
       "6111                0             0            2013-09-30  ...            NaN   \n",
       "6112                0             3            2013-10-31  ...            NaN   \n",
       "6113                0             1            2013-01-09  ...  14006980MM10A   \n",
       "\n",
       "      r_offense_date r_charge_degree                      r_charge_desc  \\\n",
       "6104      2014-10-18            (F3)      Possession Of Methamphetamine   \n",
       "6105      2015-02-21            (M1)  Possess Cannabis/20 Grams Or Less   \n",
       "6106      2015-07-19            (M1)                            Battery   \n",
       "6107      2013-06-15            (F3)              Possession of Cocaine   \n",
       "6108             NaN             NaN                                NaN   \n",
       "6109             NaN             NaN                                NaN   \n",
       "6110             NaN             NaN                                NaN   \n",
       "6111             NaN             NaN                                NaN   \n",
       "6112             NaN             NaN                                NaN   \n",
       "6113      2014-04-27            (M2)                        Petit Theft   \n",
       "\n",
       "      is_violent_recid vr_case_number  vr_offense_date vr_charge_degree  \\\n",
       "6104                 0            NaN              NaN              NaN   \n",
       "6105                 0            NaN              NaN              NaN   \n",
       "6106                 1  16000229MM10A       2015-07-19             (M1)   \n",
       "6107                 0            NaN              NaN              NaN   \n",
       "6108                 0            NaN              NaN              NaN   \n",
       "6109                 0            NaN              NaN              NaN   \n",
       "6110                 0            NaN              NaN              NaN   \n",
       "6111                 0            NaN              NaN              NaN   \n",
       "6112                 0            NaN              NaN              NaN   \n",
       "6113                 0            NaN              NaN              NaN   \n",
       "\n",
       "     vr_charge_desc two_year_recid  \n",
       "6104            NaN              1  \n",
       "6105            NaN              1  \n",
       "6106        Battery              1  \n",
       "6107            NaN              1  \n",
       "6108            NaN              0  \n",
       "6109            NaN              0  \n",
       "6110            NaN              0  \n",
       "6111            NaN              0  \n",
       "6112            NaN              0  \n",
       "6113            NaN              1  \n",
       "\n",
       "[10 rows x 27 columns]"
      ]
     },
     "execution_count": 28,
     "metadata": {},
     "output_type": "execute_result"
    }
   ],
   "source": [
    "df.drop(columns=['id','name', 'sex', 'age', 'dob', 'race', 'c_jail_out', 'c_case_number']).tail(10)"
   ]
  },
  {
   "cell_type": "code",
   "execution_count": 4,
   "id": "abf078ed",
   "metadata": {
    "collapsed": true
   },
   "outputs": [
    {
     "data": {
      "text/html": [
       "<div>\n",
       "<style scoped>\n",
       "    .dataframe tbody tr th:only-of-type {\n",
       "        vertical-align: middle;\n",
       "    }\n",
       "\n",
       "    .dataframe tbody tr th {\n",
       "        vertical-align: top;\n",
       "    }\n",
       "\n",
       "    .dataframe thead th {\n",
       "        text-align: right;\n",
       "    }\n",
       "</style>\n",
       "<table border=\"1\" class=\"dataframe\">\n",
       "  <thead>\n",
       "    <tr style=\"text-align: right;\">\n",
       "      <th></th>\n",
       "      <th>id</th>\n",
       "      <th>age</th>\n",
       "      <th>juv_fel_count</th>\n",
       "      <th>juv_misd_count</th>\n",
       "      <th>juv_other_count</th>\n",
       "      <th>priors_count</th>\n",
       "      <th>decile_score</th>\n",
       "      <th>v_decile_score</th>\n",
       "      <th>is_recid</th>\n",
       "      <th>is_violent_recid</th>\n",
       "      <th>two_year_recid</th>\n",
       "    </tr>\n",
       "  </thead>\n",
       "  <tbody>\n",
       "    <tr>\n",
       "      <th>count</th>\n",
       "      <td>6114.000000</td>\n",
       "      <td>6114.000000</td>\n",
       "      <td>6114.000000</td>\n",
       "      <td>6114.000000</td>\n",
       "      <td>6114.000000</td>\n",
       "      <td>6114.000000</td>\n",
       "      <td>6114.000000</td>\n",
       "      <td>6114.000000</td>\n",
       "      <td>6114.000000</td>\n",
       "      <td>6114.000000</td>\n",
       "      <td>6114.000000</td>\n",
       "    </tr>\n",
       "    <tr>\n",
       "      <th>mean</th>\n",
       "      <td>3057.500000</td>\n",
       "      <td>34.757442</td>\n",
       "      <td>0.062643</td>\n",
       "      <td>0.090939</td>\n",
       "      <td>0.104351</td>\n",
       "      <td>3.438502</td>\n",
       "      <td>4.488878</td>\n",
       "      <td>3.688584</td>\n",
       "      <td>0.479392</td>\n",
       "      <td>0.113510</td>\n",
       "      <td>0.450114</td>\n",
       "    </tr>\n",
       "    <tr>\n",
       "      <th>std</th>\n",
       "      <td>1765.104105</td>\n",
       "      <td>11.802448</td>\n",
       "      <td>0.396906</td>\n",
       "      <td>0.486264</td>\n",
       "      <td>0.448095</td>\n",
       "      <td>4.858464</td>\n",
       "      <td>2.849050</td>\n",
       "      <td>2.503754</td>\n",
       "      <td>0.499616</td>\n",
       "      <td>0.317241</td>\n",
       "      <td>0.497546</td>\n",
       "    </tr>\n",
       "    <tr>\n",
       "      <th>min</th>\n",
       "      <td>1.000000</td>\n",
       "      <td>18.000000</td>\n",
       "      <td>0.000000</td>\n",
       "      <td>0.000000</td>\n",
       "      <td>0.000000</td>\n",
       "      <td>0.000000</td>\n",
       "      <td>1.000000</td>\n",
       "      <td>1.000000</td>\n",
       "      <td>0.000000</td>\n",
       "      <td>0.000000</td>\n",
       "      <td>0.000000</td>\n",
       "    </tr>\n",
       "    <tr>\n",
       "      <th>25%</th>\n",
       "      <td>1529.250000</td>\n",
       "      <td>25.000000</td>\n",
       "      <td>0.000000</td>\n",
       "      <td>0.000000</td>\n",
       "      <td>0.000000</td>\n",
       "      <td>0.000000</td>\n",
       "      <td>2.000000</td>\n",
       "      <td>1.000000</td>\n",
       "      <td>0.000000</td>\n",
       "      <td>0.000000</td>\n",
       "      <td>0.000000</td>\n",
       "    </tr>\n",
       "    <tr>\n",
       "      <th>50%</th>\n",
       "      <td>3057.500000</td>\n",
       "      <td>31.000000</td>\n",
       "      <td>0.000000</td>\n",
       "      <td>0.000000</td>\n",
       "      <td>0.000000</td>\n",
       "      <td>2.000000</td>\n",
       "      <td>4.000000</td>\n",
       "      <td>3.000000</td>\n",
       "      <td>0.000000</td>\n",
       "      <td>0.000000</td>\n",
       "      <td>0.000000</td>\n",
       "    </tr>\n",
       "    <tr>\n",
       "      <th>75%</th>\n",
       "      <td>4585.750000</td>\n",
       "      <td>42.000000</td>\n",
       "      <td>0.000000</td>\n",
       "      <td>0.000000</td>\n",
       "      <td>0.000000</td>\n",
       "      <td>5.000000</td>\n",
       "      <td>7.000000</td>\n",
       "      <td>5.000000</td>\n",
       "      <td>1.000000</td>\n",
       "      <td>0.000000</td>\n",
       "      <td>1.000000</td>\n",
       "    </tr>\n",
       "    <tr>\n",
       "      <th>max</th>\n",
       "      <td>6114.000000</td>\n",
       "      <td>96.000000</td>\n",
       "      <td>10.000000</td>\n",
       "      <td>13.000000</td>\n",
       "      <td>9.000000</td>\n",
       "      <td>38.000000</td>\n",
       "      <td>10.000000</td>\n",
       "      <td>10.000000</td>\n",
       "      <td>1.000000</td>\n",
       "      <td>1.000000</td>\n",
       "      <td>1.000000</td>\n",
       "    </tr>\n",
       "  </tbody>\n",
       "</table>\n",
       "</div>"
      ],
      "text/plain": [
       "                id          age  juv_fel_count  juv_misd_count  \\\n",
       "count  6114.000000  6114.000000    6114.000000     6114.000000   \n",
       "mean   3057.500000    34.757442       0.062643        0.090939   \n",
       "std    1765.104105    11.802448       0.396906        0.486264   \n",
       "min       1.000000    18.000000       0.000000        0.000000   \n",
       "25%    1529.250000    25.000000       0.000000        0.000000   \n",
       "50%    3057.500000    31.000000       0.000000        0.000000   \n",
       "75%    4585.750000    42.000000       0.000000        0.000000   \n",
       "max    6114.000000    96.000000      10.000000       13.000000   \n",
       "\n",
       "       juv_other_count  priors_count  decile_score  v_decile_score  \\\n",
       "count      6114.000000   6114.000000   6114.000000     6114.000000   \n",
       "mean          0.104351      3.438502      4.488878        3.688584   \n",
       "std           0.448095      4.858464      2.849050        2.503754   \n",
       "min           0.000000      0.000000      1.000000        1.000000   \n",
       "25%           0.000000      0.000000      2.000000        1.000000   \n",
       "50%           0.000000      2.000000      4.000000        3.000000   \n",
       "75%           0.000000      5.000000      7.000000        5.000000   \n",
       "max           9.000000     38.000000     10.000000       10.000000   \n",
       "\n",
       "          is_recid  is_violent_recid  two_year_recid  \n",
       "count  6114.000000       6114.000000     6114.000000  \n",
       "mean      0.479392          0.113510        0.450114  \n",
       "std       0.499616          0.317241        0.497546  \n",
       "min       0.000000          0.000000        0.000000  \n",
       "25%       0.000000          0.000000        0.000000  \n",
       "50%       0.000000          0.000000        0.000000  \n",
       "75%       1.000000          0.000000        1.000000  \n",
       "max       1.000000          1.000000        1.000000  "
      ]
     },
     "execution_count": 4,
     "metadata": {},
     "output_type": "execute_result"
    }
   ],
   "source": [
    "df.describe()"
   ]
  },
  {
   "cell_type": "code",
   "execution_count": 5,
   "id": "1ff3f0fc",
   "metadata": {
    "collapsed": true
   },
   "outputs": [
    {
     "data": {
      "text/plain": [
       "id                        int64\n",
       "name                     object\n",
       "sex                      object\n",
       "dob                      object\n",
       "age                       int64\n",
       "race                     object\n",
       "c_jail_in                object\n",
       "c_jail_out               object\n",
       "c_case_number            object\n",
       "c_offense_date           object\n",
       "c_arrest_date            object\n",
       "c_charge_degree          object\n",
       "c_charge_desc            object\n",
       "juv_fel_count             int64\n",
       "juv_misd_count            int64\n",
       "juv_other_count           int64\n",
       "priors_count              int64\n",
       "compas_screening_date    object\n",
       "type_of_assessment       object\n",
       "decile_score              int64\n",
       "score_text               object\n",
       "v_type_of_assessment     object\n",
       "v_decile_score            int64\n",
       "v_score_text             object\n",
       "is_recid                  int64\n",
       "r_case_number            object\n",
       "r_offense_date           object\n",
       "r_charge_degree          object\n",
       "r_charge_desc            object\n",
       "is_violent_recid          int64\n",
       "vr_case_number           object\n",
       "vr_offense_date          object\n",
       "vr_charge_degree         object\n",
       "vr_charge_desc           object\n",
       "two_year_recid            int64\n",
       "dtype: object"
      ]
     },
     "execution_count": 5,
     "metadata": {},
     "output_type": "execute_result"
    }
   ],
   "source": [
    "df.dtypes"
   ]
  },
  {
   "cell_type": "code",
   "execution_count": 6,
   "id": "b6d7c075",
   "metadata": {
    "collapsed": true
   },
   "outputs": [
    {
     "name": "stdout",
     "output_type": "stream",
     "text": [
      "[nan, nan, nan, '2014-01-23', nan, nan, nan, '2013-10-10', nan, nan, nan, nan, nan, nan, nan, '2013-04-04', nan, nan, '2013-05-03', nan, nan, '2013-09-08', nan, nan, nan, nan, nan, nan, '2010-05-20', nan, nan, nan, nan, '2013-11-06', nan, nan, '2011-04-02', nan, nan, nan, '2013-09-15', '2013-05-22', nan, nan, nan, nan, nan, '2011-12-29', nan, nan, nan, nan, nan, nan, nan, nan, nan, '2013-05-05', nan, nan, nan, nan, nan, nan, nan, nan, nan, nan, '2012-06-21', nan, nan, nan, nan, nan, nan, nan, '2012-05-15', nan, nan, nan, nan, nan, nan, nan, '2013-09-04', '2013-08-08', '2014-07-30', nan, '2013-04-25', nan, nan, nan, nan, nan, nan, nan, nan, nan, nan, nan, '2013-01-19', nan, nan, nan, '2013-01-23', nan, nan, nan, nan, nan, '2013-12-26', nan, nan, nan, nan, nan, nan, nan, nan, nan, '2013-08-23', '2013-09-06', '2013-03-14', '2013-02-21', nan, nan, nan, nan, nan, nan, nan, nan, nan, '2013-02-22', nan, nan, nan, nan, '2013-04-17', nan, nan, nan, nan, nan, nan, nan, nan, nan, nan, nan, nan, nan, '2013-02-22', nan, nan, nan, '2013-02-21', nan, nan, nan, nan, nan, nan, nan, nan, nan, nan, nan, nan, '2014-07-11', nan, nan, '2013-11-23', nan, '2012-09-20', '2013-04-18', nan, nan, nan, nan, nan, nan, '2010-11-11', nan, '2013-06-25', nan, nan, nan, nan, nan, nan, '2013-12-05', '2013-08-13', nan, nan, nan, nan, nan, nan, '2013-06-06', nan, nan, nan, nan, '2013-05-23', nan, nan, '2013-10-14', '2013-04-17', nan, nan, nan, '2013-08-07', nan, nan, nan, nan, nan, nan, nan, nan, '2013-09-17', nan, nan, nan, nan, nan, nan, nan, nan, nan, nan, nan, nan, nan, '2013-02-15', nan, '2013-06-29', nan, nan, nan, nan, nan, nan, nan, '2014-01-07', nan, nan, '2014-05-22', nan, nan, nan, nan, nan, nan, nan, nan, nan, nan, nan, nan, nan, nan, nan, '2013-02-15', nan, nan, nan, nan, nan, '2013-01-06', nan, nan, nan, nan, nan, '2013-03-20', nan, nan, nan, '2013-08-27', nan, nan, '2013-09-12', nan, nan, nan, nan, nan, nan, nan, nan, nan, '2013-05-18', nan, nan, nan, nan, nan, nan, nan, '2014-06-17', nan, '2013-04-27', '2013-03-10', nan, nan, nan, nan, '2013-07-11', nan, '2013-10-14', nan, nan, '2013-12-18', '2013-04-19', nan, '2013-09-09', '2014-03-01', nan, '2014-11-28', nan, '2013-05-09', nan, nan, nan, nan, nan, nan, nan, nan, nan, nan, nan, nan, nan, nan, '2014-12-15', '2013-07-05', '2014-11-09', nan, nan, nan, nan, nan, nan, nan, nan, nan, nan, nan, '2013-02-05', nan, nan, nan, nan, nan, '2014-02-18', nan, nan, nan, '2014-06-04', '2013-01-23', '2013-11-19', nan, nan, '2014-05-22', nan, nan, nan, '2014-08-29', nan, '2013-11-15', '2013-06-17', nan, nan, '2012-11-15', nan, nan, nan, nan, '2013-05-24', nan, nan, nan, nan, nan, nan, '2009-10-05', nan, nan, nan, nan, nan, '2014-01-18', nan, nan, '2013-08-22', nan, nan, nan, '2013-12-21', nan, nan, nan, nan, nan, nan, nan, nan, nan, '2014-02-03', nan, nan, nan, nan, nan, nan, nan, nan, nan, nan, '2013-12-05', nan, nan, nan, nan, nan, nan, nan, nan, nan, nan, nan, nan, nan, nan, nan, nan, nan, nan, '2013-08-11', nan, nan, nan, nan, nan, '2013-07-15', '2013-08-29', nan, nan, '2009-10-15', nan, nan, nan, nan, nan, nan, nan, nan, nan, nan, nan, '2013-05-01', nan, nan, nan, nan, nan, nan, nan, nan, nan, nan, nan, nan, nan, nan, nan, nan, nan, nan, nan, '2014-07-02', nan, nan, nan, '2013-05-04', nan, '2014-01-05', nan, nan, nan, nan, nan, nan, nan, nan, nan, nan, '2014-12-06', nan, nan, '2013-08-27', nan, nan, nan, nan, '2013-08-24', nan, nan, '2014-01-24', nan, '2013-09-21', nan, nan, nan, nan, nan, '2012-12-05', '2014-01-23', nan, nan, nan, '2013-06-18', '2013-10-01', '2013-09-18', nan, '2014-03-02', nan, '2013-09-26', '2013-04-15', nan, nan, nan, nan, nan, nan, '2013-04-02', nan, nan, nan, nan, nan, nan, nan, nan, nan, '2013-02-20', nan, nan, nan, nan, nan, nan, '2012-06-29', nan, nan, nan, nan, nan, nan, nan, '2013-02-19', nan, nan, nan, nan, nan, nan, nan, nan, '2012-03-28', nan, nan, nan, nan, nan, nan, nan, nan, nan, nan, nan, nan, nan, nan, nan, nan, nan, nan, nan, '2013-04-09', nan, '2013-08-21', nan, nan, nan, nan, nan, nan, nan, '2013-08-28', nan, nan, nan, nan, nan, nan, nan, nan, nan, nan, nan, '2013-05-21', nan, nan, nan, nan, nan, nan, nan, nan, nan, nan, nan, nan, '2013-09-03', nan, '2013-03-22', '2013-09-29', '2013-09-13', nan, '2013-03-08', nan, '2013-03-27', nan, nan, nan, nan, nan, nan, nan, nan, '2014-01-16', nan, nan, nan, nan, nan, nan, '2013-05-01', nan, nan, nan, '2013-02-14', nan, nan, nan, nan, nan, nan, nan, nan, nan, nan, nan, nan, nan, nan, nan, nan, nan, nan, nan, nan, nan, '2003-06-10', nan, nan, nan, '2013-09-11', '2013-03-22', nan, nan, nan, nan, nan, nan, nan, nan, nan, '2010-12-04', '2013-04-11', nan, nan, nan, nan, nan, nan, nan, nan, '2013-11-22', nan, nan, nan, nan, nan, nan, nan, nan, nan, '2013-09-25', nan, nan, nan, nan, nan, nan, nan, nan, nan, nan, '2014-11-05', nan, nan, nan, nan, nan, nan, nan, nan, nan, nan, nan, nan, nan, '2013-01-06', nan, nan, nan, nan, nan, '2013-01-18', nan, nan, nan, nan, nan, nan, '2013-04-26', nan, nan, nan, nan, nan, nan, nan, nan, nan, nan, nan, nan, '2013-03-29', nan, nan, nan, nan, '2013-01-14', nan, nan, nan, nan, nan, nan, nan, nan, nan, nan, '2013-03-24', nan, '2014-12-05', nan, nan, nan, nan, '2013-04-17', nan, nan, nan, nan, '2013-09-20', '2014-02-04', nan, '2013-03-13', nan, nan, '2013-10-03', nan, '2013-08-09', nan, nan, nan, nan, nan, nan, nan, nan, nan, nan, '2013-01-28', nan, nan, nan, nan, nan, nan, nan, '2013-12-21', nan, nan, '2013-01-29', nan, '2013-10-07', nan, nan, nan, nan, '2013-05-15', nan, nan, nan, nan, nan, nan, nan, nan, nan, nan, '2013-10-02', nan, nan, '2014-02-06', nan, nan, nan, nan, nan, nan, nan, nan, nan, '2013-02-01', nan, '2013-11-23', nan, nan, nan, nan, nan, nan, nan, '2013-03-21', nan, nan, nan, '2010-03-22', '2012-05-07', nan, nan, nan, nan, nan, nan, nan, nan, nan, '2014-03-18', nan, nan, nan, nan, '2013-01-21', '2013-10-14', nan, nan, nan, '2013-03-28', '2013-03-27', nan, '2013-02-15', nan, nan, nan, nan, '2013-11-27', nan, nan, nan, nan, nan, nan, nan, nan, nan, '2013-04-19', nan, nan, nan, nan, '2014-12-27', nan, nan, nan, nan, nan, nan, nan, '2013-05-23', nan, nan, nan, nan, nan, nan, nan, nan, nan, nan, nan, nan, nan, nan, nan, '2013-08-02', nan, nan, nan, nan, nan, nan, nan, nan, nan, nan, nan, nan, nan, nan, nan, nan, nan, nan, nan, nan, nan, '2013-12-14', '2013-03-11', nan, nan, nan, '2013-02-05', nan, nan, '1999-12-09', nan, nan, nan, nan, nan, nan, nan, nan, nan, '2013-04-16', '2012-06-27', nan, nan, nan, nan, nan, nan, nan, nan, '2011-04-28', nan, nan, nan, nan, '2013-01-11', nan, nan, nan, nan, nan, nan, nan, nan, nan, nan, nan, nan, nan, nan, nan, nan, nan, nan, nan, nan, nan, nan, nan, nan, '2013-05-15', nan, nan, '2014-01-31', nan, nan, nan, nan, '2013-05-09', nan, nan, nan, '2013-07-09', nan, nan, nan, nan, nan, nan, nan, nan, '2013-05-04', nan, nan, '2014-03-28', nan, '2013-10-15', nan, nan, nan, nan, nan, nan, '2013-02-09', nan, nan, nan, nan, nan, nan, nan, '2013-09-08', nan, nan, '2013-02-15', nan, nan, '2014-03-29', nan, '2013-04-30', nan, nan, nan, nan, nan, nan, nan, nan, '2013-01-15', nan, nan, nan, nan, nan, nan, nan, nan, '2013-01-14', nan, nan, nan, '2012-12-18', '2013-01-15', nan, nan, '2013-04-04', '2013-10-24', '2014-12-13', '2013-10-03', nan, nan, '2014-03-07', '2013-08-01', nan, nan, nan, nan, '2013-03-28', nan, nan, nan, nan, '2013-09-28', nan, '2013-12-09', nan, nan, nan, nan, nan, nan, nan, '2014-02-11', '2013-01-30', '2014-08-17', '2013-10-15', nan, nan, nan, nan, nan, nan, nan, nan, '2013-04-25', '2013-05-15', nan, nan, nan, nan, nan, nan, '2013-01-18', nan, nan, nan, '2011-11-20', nan, nan, nan, nan, nan, nan, nan, nan, nan, nan, '2013-04-28', nan, nan, nan, nan, nan, nan, nan, nan, nan, nan, nan, '2013-01-06', nan, nan, nan, nan, nan, '2013-09-11', nan, nan, nan, nan, nan, nan, nan, nan, nan, nan, nan, nan, nan, nan, nan, nan, nan, nan, nan, nan, nan, nan, '2013-04-10', nan, nan, nan, '2012-10-07', nan, nan, nan, nan, nan, nan, nan, nan, '2008-04-30', nan, nan, nan, '2013-02-26', nan, nan, nan, '2014-09-18', nan, '2013-10-03', nan, nan, nan, nan, nan, nan, '2013-09-18', nan, nan, nan, nan, '2014-02-20', nan, nan, nan, '2013-12-04', nan, nan, nan, nan, nan, nan, '2012-02-20', nan, nan, nan, nan, '2013-04-16', '2012-05-31', nan, nan, nan, nan, nan, nan, nan, nan, nan, '2012-12-09', '2013-11-24', nan, nan, nan, nan, nan, nan, nan, nan, nan, nan, '2013-02-16', nan, nan, nan, '2013-11-28', nan, nan, '2012-11-09', nan, nan, nan, nan, nan, nan, nan, '2014-02-18', nan, '2013-12-19', nan, nan, nan, nan, nan, nan, nan, nan, nan, nan, nan, nan, nan, nan, nan, nan, nan, nan, nan, nan, nan, nan, nan, '2013-12-27', nan, nan, nan, nan, '2013-02-16', nan, '2014-08-25', nan, nan, nan, nan, nan, nan, nan, nan, '2014-05-17', nan, '2013-09-05', '2012-09-23', nan, '2013-08-29', nan, '2013-05-24', nan, nan, nan, '2013-09-27', nan, nan, nan, nan, '2013-01-22', '2013-12-24', nan, nan, nan, nan, nan, nan, nan, nan, nan, nan, nan, nan, nan, nan, '2014-03-01', nan, nan, nan, nan, nan, nan, nan, nan, '2013-12-29', nan, nan, nan, '2013-05-13', nan, nan, nan, nan, nan, nan, nan, '2013-12-17', nan, nan, nan, nan, nan, nan, '2003-03-08', nan, nan, '2013-05-20', nan, nan, nan, nan, nan, nan, '2010-05-20', nan, nan, nan, nan, nan, '2013-03-13', nan, nan, '2013-02-22', nan, nan, nan, nan, nan, nan, '2013-02-27', nan, nan, '2013-01-30', '2014-05-30', '2013-08-18', '2013-02-05', nan, nan, nan, '2013-12-04', nan, nan, nan, '2014-01-24', '2013-10-03', nan, nan, nan, nan, nan, nan, nan, nan, nan, nan, '2013-03-21', nan, '2013-04-30', '2013-04-04', nan, nan, nan, nan, nan, nan, nan, nan, nan, nan, nan, '2013-08-21', '2014-02-25', '2013-10-25', nan, nan, nan, nan, nan, nan, nan, nan, nan, nan, nan, nan, nan, nan, nan, nan, nan, nan, nan, nan, nan, '2013-12-28', '2014-11-13', nan, nan, nan, nan, nan, nan, nan, nan, '2013-07-02', nan, nan, nan, nan, nan, nan, nan, nan, nan, nan, nan, nan, nan, nan, '2014-09-22', nan, nan, nan, nan, nan, nan, nan, nan, nan, '2013-01-17', nan, nan, nan, nan, nan, nan, nan, '2013-03-15', nan, '2013-05-25', nan, nan, nan, '2013-10-01', nan, nan, nan, nan, nan, nan, nan, nan, '2013-09-14', nan, nan, nan, nan, nan, '2013-07-24', nan, nan, nan, '2013-11-15', nan, nan, nan, nan, nan, nan, nan, '2013-09-04', nan, nan, nan, nan, nan, '2014-03-18', nan, '2012-11-22', '2014-05-27', '2013-09-10', nan, nan, nan, nan, nan, nan, nan, nan, nan, nan, '2011-12-23', nan, nan, nan, nan, '2014-11-01', nan, nan, nan, '2013-05-30', '2013-01-02', nan, nan, nan, nan, nan, nan, nan, nan, '2014-05-26', nan, nan, nan, '2013-05-14', nan, nan, nan, nan, nan, '2014-09-18', nan, nan, '2013-02-27', nan, '2014-10-13', nan, nan, nan, nan, nan, nan, nan, nan, nan, nan, nan, nan, '2013-03-01', nan, nan, '2013-04-18', nan, nan, nan, nan, nan, nan, nan, nan, nan, nan, '2014-03-03', '2012-03-06', nan, nan, nan, nan, nan, nan, nan, nan, '2014-02-19', nan, nan, nan, nan, nan, nan, '2013-04-07', '2014-01-08', nan, '2012-02-09', nan, nan, '2013-10-24', nan, nan, nan, '2014-01-06', nan, nan, nan, '2013-10-22', nan, nan, nan, nan, nan, nan, nan, nan, nan, nan, nan, '2014-05-14', nan, nan, '2013-08-25', '2013-04-17', nan, nan, nan, nan, nan, nan, '2013-10-23', '2014-03-14', nan, nan, nan, nan, nan, nan, nan, nan, nan, nan, nan, nan, nan, nan, nan, nan, '2013-05-01', nan, '2013-02-25', nan, nan, nan, nan, '2013-02-02', nan, nan, nan, nan, nan, nan, nan, nan, nan, nan, nan, '2013-12-18', nan, nan, nan, nan, nan, nan, '2014-06-06', nan, nan, nan, nan, nan, nan, nan, nan, nan, nan, nan, nan, nan, nan, nan, nan, nan, nan, nan, nan, nan, nan, nan, '2013-10-29', nan, nan, nan, nan, nan, nan, nan, nan, nan, nan, '2014-04-24', nan, nan, nan, nan, nan, nan, nan, nan, nan, nan, nan, nan, nan, '2013-01-07', nan, nan, '2014-07-22', nan, nan, nan, nan, nan, nan, '2013-10-29', nan, nan, nan, nan, nan, nan, nan, nan, nan, nan, nan, nan, '2013-07-24', nan, nan, nan, nan, nan, nan, '2013-02-19', nan, nan, nan, nan, nan, nan, nan, nan, nan, nan, nan, nan, nan, '2014-01-10', nan, '2013-11-20', nan, nan, nan, nan, nan, nan, nan, nan, nan, nan, nan, nan, '2013-04-18', '2013-07-25', nan, nan, nan, nan, nan, nan, nan, nan, '2013-03-26', nan, nan, nan, nan, nan, nan, '2013-03-01', nan, nan, nan, nan, nan, nan, nan, nan, nan, nan, nan, nan, nan, nan, nan, '2013-01-12', '2014-03-01', nan, nan, nan, nan, nan, nan, '2014-03-13', nan, nan, nan, nan, '2011-11-04', nan, nan, nan, nan, nan, nan, nan, nan, nan, nan, nan, nan, nan, nan, '2013-09-19', nan, '2013-11-29', nan, nan, nan, nan, nan, nan, nan, nan, nan, nan, nan, nan, nan, nan, nan, nan, nan, '2003-01-15', nan, '2014-01-24', nan, '2012-07-27', nan, nan, nan, '2013-08-21', nan, nan, '2013-11-26', nan, nan, nan, nan, nan, '2012-07-19', nan, nan, '2014-01-29', nan, nan, nan, nan, '2013-09-13', nan, nan, nan, nan, nan, nan, nan, nan, nan, nan, nan, nan, nan, nan, nan, nan, nan, nan, nan, nan, nan, '2014-01-14', nan, nan, nan, '2013-09-16', nan, '2013-04-20', nan, nan, nan, nan, nan, nan, nan, nan, '2013-08-20', nan, nan, nan, nan, nan, nan, nan, nan, nan, nan, nan, '2014-10-03', nan, nan, nan, nan, nan, nan, nan, nan, nan, '2009-05-02', nan, nan, nan, '2013-09-04', nan, nan, nan, nan, nan, nan, nan, nan, nan, nan, nan, nan, nan, nan, nan, nan, nan, '2014-03-01', nan, '2013-02-09', '2013-10-22', nan, nan, nan, nan, nan, nan, nan, nan, '2013-12-17', nan, nan, nan, nan, nan, nan, nan, nan, nan, '2014-05-12', nan, '2014-05-27', nan, nan, nan, nan, nan, '2013-12-24', nan, nan, nan, '2014-03-03', nan, nan, nan, nan, nan, nan, nan, '2013-05-16', nan, nan, nan, nan, nan, nan, nan, nan, nan, nan, nan, nan, nan, '2013-08-21', '2013-03-05', nan, nan, nan, nan, nan, nan, nan, nan, nan, nan, nan, nan, nan, nan, nan, nan, nan, nan, '2013-01-24', '2013-09-30', nan, nan, nan, nan, nan, nan, nan, nan, nan, nan, nan, nan, '2014-01-10', nan, nan, nan, nan, nan, nan, nan, '2013-09-15', nan, nan, nan, nan, nan, nan, nan, nan, nan, '2013-09-18', '2012-07-08', nan, nan, nan, nan, nan, nan, nan, nan, nan, nan, '2013-03-26', '2014-02-04', nan, nan, nan, nan, nan, nan, nan, nan, '2013-01-02', nan, '2014-04-11', nan, nan, nan, nan, nan, nan, nan, nan, nan, nan, nan, nan, nan, nan, '2013-02-06', nan, nan, '2013-09-12', nan, nan, nan, '2014-07-16', nan, '2013-01-13', '2013-09-29', nan, nan, '2013-03-15', nan, nan, nan, nan, nan, nan, nan, nan, nan, nan, nan, nan, nan, nan, nan, nan, nan, nan, nan, nan, nan, '2013-01-31', nan, nan, nan, nan, nan, nan, nan, nan, nan, nan, nan, nan, nan, nan, '2013-01-02', nan, '2014-01-17', nan, nan, nan, nan, nan, '2013-09-23', nan, nan, nan, nan, nan, nan, nan, nan, nan, nan, nan, nan, nan, '2014-01-28', nan, nan, nan, nan, nan, nan, nan, nan, nan, nan, nan, nan, nan, nan, nan, nan, nan, nan, nan, nan, nan, nan, nan, nan, nan, nan, nan, nan, '2014-02-25', nan, '2013-01-24', nan, nan, nan, nan, '2013-05-14', nan, nan, nan, nan, nan, nan, nan, nan, nan, nan, nan, nan, nan, '2013-02-26', nan, nan, '2014-12-26', '2012-06-13', nan, nan, nan, nan, nan, nan, nan, nan, nan, nan, nan, '2014-02-24', nan, nan, nan, nan, nan, nan, '2013-09-25', '2014-03-18', '2014-11-17', nan, nan, nan, nan, nan, nan, nan, '2013-01-20', nan, nan, nan, nan, nan, nan, nan, nan, nan, nan, nan, nan, nan, nan, nan, nan, nan, nan, nan, nan, '2012-12-23', '2014-05-15', nan, nan, nan, nan, nan, nan, nan, '2013-01-18', nan, nan, nan, nan, nan, nan, nan, nan, nan, '2013-09-03', nan, nan, nan, nan, nan, nan, nan, nan, '2013-03-22', '2013-02-19', nan, '2013-11-04', nan, nan, nan, nan, nan, nan, nan, nan, nan, nan, nan, nan, '2013-08-03', nan, nan, nan, nan, nan, nan, nan, nan, '2014-02-01', nan, nan, '2012-07-30', nan, nan, nan, nan, nan, nan, nan, nan, nan, '2009-10-26', nan, '2012-10-25', nan, nan, nan, nan, '2014-10-20', nan, nan, nan, nan, nan, nan, nan, nan, nan, nan, nan, nan, '2014-12-01', nan, nan, nan, nan, nan, nan, nan, nan, '2013-04-20', nan, nan, nan, nan, nan, nan, nan, '2014-06-17', nan, nan, nan, nan, nan, nan, '2014-02-27', '2013-04-21', nan, '2013-08-20', nan, '2011-08-27', nan, nan, nan, nan, nan, nan, nan, nan, nan, nan, nan, nan, nan, nan, nan, nan, nan, '2013-07-17', nan, nan, nan, nan, nan, nan, nan, nan, nan, '2013-03-21', nan, nan, '2012-05-30', nan, '2013-09-12', nan, '2010-11-16', '2013-03-08', nan, nan, nan, nan, nan, nan, nan, nan, '2013-04-23', nan, nan, '2012-09-19', nan, nan, nan, nan, nan, nan, nan, nan, '2002-08-13', '2014-08-26', nan, nan, nan, nan, nan, nan, '2014-09-17', nan, nan, '2013-12-12', nan, nan, nan, nan, nan, '2013-10-10', nan, nan, '2014-06-25', nan, nan, nan, nan, nan, nan, '2013-10-16', nan, nan, nan, nan, nan, nan, nan, nan, nan, nan, '2013-01-23', nan, nan, nan, nan, nan, '2013-12-23', '2013-11-10', '2013-02-14', nan, nan, nan, nan, '2013-01-01', nan, nan, nan, nan, nan, nan, nan, '2013-03-19', nan, nan, nan, nan, nan, '2013-05-26', nan, nan, nan, nan, nan, '2013-02-16', nan, nan, nan, nan, nan, nan, '2014-12-10', nan, '2013-12-04', '2013-03-22', nan, nan, nan, nan, '2013-12-18', '2013-10-09', nan, nan, nan, nan, nan, nan, nan, nan, nan, nan, nan, nan, '2013-01-28', '2014-01-12', nan, nan, nan, nan, nan, nan, '2014-11-12', nan, nan, nan, nan, '2014-11-17', nan, '2014-08-06', nan, nan, nan, '2013-02-17', nan, nan, nan, nan, nan, nan, nan, nan, nan, nan, nan, nan, nan, nan, nan, nan, nan, '2013-02-21', nan, nan, '2013-02-24', '2012-11-02', nan, nan, nan, nan, nan, nan, nan, nan, nan, nan, nan, '2013-06-26', '2013-09-21', nan, nan, nan, nan, nan, nan, nan, nan, nan, '2013-02-21', nan, nan, nan, nan, '2011-10-05', nan, nan, nan, nan, nan, nan, nan, '2013-10-09', nan, '2014-03-02', nan, nan, nan, nan, nan, nan, nan, nan, nan, nan, nan, nan, nan, nan, nan, nan, '2013-09-26', '2014-02-28', nan, nan, '2013-05-21', nan, '2013-01-27', nan, nan, nan, nan, nan, nan, nan, nan, nan, nan, nan, '2013-09-24', '2013-12-25', nan, nan, nan, nan, nan, '2013-04-18', '2013-06-28', '2013-11-06', nan, nan, nan, nan, nan, nan, nan, nan, nan, nan, nan, nan, nan, nan, nan, nan, nan, nan, nan, nan, nan, nan, nan, nan, '2014-06-28', nan, nan, '2014-03-06', nan, nan, nan, nan, nan, nan, '2013-02-19', nan, nan, nan, '2013-02-06', nan, '2013-07-01', nan, nan, nan, nan, nan, nan, nan, nan, nan, nan, nan, nan, nan, nan, nan, nan, nan, nan, nan, nan, '2014-08-02', nan, nan, nan, nan, nan, nan, nan, nan, '2013-11-22', nan, nan, nan, nan, nan, nan, '2013-09-09', nan, nan, nan, '2013-01-24', nan, nan, '2014-09-19', '2014-05-08', nan, nan, '2013-09-05', nan, nan, nan, nan, nan, nan, '2013-06-21', nan, nan, nan, nan, nan, nan, nan, nan, nan, nan, nan, nan, nan, nan, nan, nan, nan, nan, nan, nan, nan, '2013-04-07', nan, nan, nan, nan, nan, nan, nan, nan, '2014-01-21', nan, nan, nan, nan, nan, '2014-05-12', nan, nan, nan, nan, nan, nan, nan, nan, nan, nan, nan, nan, nan, nan, nan, nan, '2013-11-20', nan, nan, nan, nan, nan, nan, nan, nan, nan, nan, nan, nan, nan, nan, nan, nan, nan, nan, nan, '2014-09-08', nan, '2009-03-06', nan, nan, nan, nan, nan, nan, nan, nan, nan, '2013-03-08', nan, nan, nan, nan, '2012-04-11', nan, nan, nan, nan, nan, nan, nan, nan, nan, nan, nan, nan, '2014-11-25', nan, nan, nan, '2013-01-22', nan, nan, nan, nan, nan, '2013-08-13', nan, '2014-01-14', nan, nan, nan, '2013-10-28', nan, nan, '2013-01-26', nan, nan, nan, nan, nan, nan, nan, nan, nan, nan, nan, nan, nan, nan, nan, nan, nan, nan, nan, nan, nan, nan, '2013-02-01', '2012-04-03', nan, nan, nan, nan, nan, nan, nan, '2013-10-22', nan, nan, nan, nan, nan, nan, nan, '2013-01-20', nan, nan, nan, nan, '2013-04-22', nan, nan, nan, '2013-09-11', nan, nan, nan, nan, nan, nan, nan, nan, '2013-05-04', nan, '2013-07-08', nan, nan, nan, '2013-02-27', '2011-10-18', nan, nan, nan, nan, nan, nan, nan, '2013-12-04', nan, nan, nan, nan, nan, nan, nan, nan, nan, nan, nan, '2009-09-03', nan, '2013-09-06', nan, nan, nan, nan, nan, '2013-04-24', nan, '2014-07-15', nan, nan, nan, nan, nan, nan, nan, nan, nan, nan, nan, nan, nan, nan, '2014-12-12', nan, nan, nan, nan, '2012-10-29', nan, nan, nan, nan, nan, nan, nan, nan, '2013-02-27', nan, nan, nan, nan, nan, nan, nan, nan, nan, nan, nan, nan, '2014-08-04', nan, nan, nan, nan, '2013-09-29', nan, nan, nan, nan, nan, nan, nan, '2013-02-01', nan, nan, nan, nan, '2012-09-21', nan, nan, nan, nan, nan, nan, nan, nan, nan, nan, nan, nan, nan, nan, nan, nan, nan, nan, '2012-12-13', nan, nan, nan, nan, nan, '2013-06-17', nan, nan, nan, nan, '2012-12-06', nan, '2014-01-13', nan, nan, nan, nan, nan, nan, nan, nan, nan, '2012-04-16', nan, nan, '2013-04-13', nan, nan, '1998-12-19', nan, '2013-11-20', nan, nan, nan, nan, nan, nan, nan, nan, nan, nan, nan, nan, nan, '2013-03-10', '2013-11-05', nan, nan, nan, nan, nan, nan, '2013-11-07', '2013-02-09', nan, nan, nan, nan, nan, '2012-04-19', nan, nan, nan, nan, nan, '2013-08-06', nan, nan, nan, nan, nan, nan, nan, nan, nan, '2013-05-25', nan, nan, nan, nan, nan, nan, nan, nan, nan, nan, nan, nan, '2013-07-31', '2014-03-31', nan, nan, '2012-09-03', nan, nan, nan, nan, nan, nan, nan, nan, nan, nan, '2013-02-10', nan, nan, nan, nan, nan, nan, nan, nan, nan, nan, nan, nan, nan, nan, nan, nan, nan, nan, nan, nan, nan, nan, nan, nan, nan, nan, nan, nan, nan, nan, nan, nan, nan, nan, nan, nan, nan, nan, nan, nan, nan, nan, nan, nan, '2013-11-21', nan, nan, '2013-09-05', '2014-03-04', nan, nan, nan, '2012-10-31', nan, nan, nan, '2013-03-22', nan, '2013-10-15', nan, '2013-06-01', nan, nan, nan, nan, nan, nan, nan, nan, nan, nan, nan, nan, nan, nan, nan, '2012-10-17', '2012-12-10', nan, nan, nan, nan, '2013-12-29', nan, nan, nan, nan, nan, nan, '2013-02-25', nan, nan, nan, nan, '2013-10-07', nan, nan, nan, nan, nan, nan, nan, nan, nan, nan, nan, '2013-08-29', nan, nan, nan, nan, nan, nan, nan, nan, nan, '2013-10-09', nan, nan, nan, '2013-12-19', nan, nan, nan, '2013-05-25', nan, nan, nan, nan, nan, nan, nan, nan, '2013-02-14', '2010-10-04', nan, nan, nan, nan, nan, nan, nan, nan, nan, nan, nan, nan, nan, nan, nan, nan, '2013-01-10', nan, nan, nan, nan, '2014-08-01', nan, nan, nan, nan, nan, nan, nan, nan, '2013-02-19', '2013-09-25', nan, nan, nan, nan, nan, nan, nan, nan, nan, nan, nan, nan, nan, nan, nan, nan, nan, '2014-04-07', nan, '2013-03-11', nan, nan, nan, nan, nan, nan, '2014-09-29', nan, nan, nan, nan, nan, nan, nan, '2012-06-11', nan, nan, nan, nan, '2014-07-30', nan, nan, nan, nan, nan, nan, nan, nan, nan, nan, '2013-10-21', nan, nan, nan, nan, '2014-03-27', '2012-07-21', nan, nan, nan, nan, nan, '2013-08-22', nan, nan, nan, '2013-04-25', nan, nan, nan, nan, '2013-05-29', nan, nan, nan, nan, nan, '2013-10-22', nan, nan, nan, nan, nan, nan, '2014-06-04', nan, nan, nan, nan, nan, nan, nan, '2013-02-12', '2013-01-03', nan, '2011-07-25', nan, nan, nan, nan, nan, nan, nan, nan, nan, nan, '2013-05-10', nan, nan, nan, nan, nan, nan, nan, nan, nan, nan, nan, nan, '2013-09-13', nan, nan, nan, '2013-12-26', nan, nan, nan, nan, nan, nan, nan, nan, nan, nan, '2014-10-09', nan, nan, '2013-02-10', nan, nan, nan, nan, nan, nan, '2012-04-14', nan, nan, nan, nan, nan, nan, nan, nan, nan, nan, nan, nan, nan, nan, nan, nan, nan, nan, '2013-02-23', nan, nan, '2012-12-16', nan, nan, nan, '2014-04-16', nan, nan, nan, nan, nan, nan, nan, nan, nan, nan, nan, nan, nan, '2013-02-06', '2013-08-20', nan, nan, nan, nan, nan, nan, nan, '2013-04-30', nan, nan, nan, nan, nan, nan, nan, nan, nan, '2013-04-07', nan, nan, nan, nan, nan, nan, nan, nan, nan, nan, nan, nan, nan, nan, nan, nan, nan, '2013-04-09', nan, nan, nan, nan, nan, nan, '2012-10-01', '2012-12-26', nan, nan, nan, nan, nan, nan, nan, nan, nan, '2013-04-02', '2013-08-29', '2013-01-26', '2013-10-30', nan, nan, nan, nan, '2013-04-19', nan, nan, nan, '2013-05-30', nan, nan, nan, nan, nan, nan, '2013-05-03', nan, nan, nan, nan, nan, nan, nan, nan, nan, nan, '2012-11-16', '2013-12-22', '2014-05-12', nan, '2014-01-08', nan, nan, nan, nan, '2014-01-21', nan, nan, nan, nan, nan, nan, nan, nan, nan, nan, nan, nan, '2012-08-16', nan, nan, nan, nan, nan, nan, '2012-10-30', nan, '2003-03-16', '2013-01-25', nan, nan, nan, nan, nan, nan, '2014-10-07', nan, nan, nan, nan, nan, nan, nan, nan, nan, nan, nan, nan, nan, nan, nan, '2013-03-14', nan, nan, nan, nan, nan, nan, '2013-10-11', nan, '2012-04-26', nan, nan, nan, '2013-10-15', nan, nan, nan, nan, nan, nan, '2014-02-14', '2013-01-04', '2012-11-15', '2014-11-04', nan, nan, nan, nan, nan, nan, nan, nan, '2012-08-17', '2013-03-26', nan, nan, nan, nan, nan, nan, nan, nan, nan, nan, '2013-06-28', '2014-09-29', nan, '2013-02-14', nan, '2012-12-26', nan, nan, '2014-03-04', nan, nan, nan, nan, nan, nan, nan, nan, nan, nan, nan, nan, nan, nan, nan, '2014-01-26', nan, nan, nan, nan, nan, nan, nan, nan, nan, nan, nan, nan, nan, nan, nan, nan, nan, nan, nan, nan, nan, '2013-11-25', nan, nan, nan, nan, nan, nan, nan, nan, nan, nan, nan, nan, nan, nan, nan, nan, nan, nan, nan, nan, nan, nan, nan, nan, nan, nan, '2013-08-14', nan, nan, '2013-10-07', nan, nan, nan, nan, nan, nan, nan, nan, nan, '2013-01-19', nan, nan, nan, nan, nan, nan, nan, nan, nan, nan, nan, nan, nan, nan, nan, nan, '2013-04-06', nan, nan, nan, nan, nan, nan, nan, '2013-09-23', '2005-05-19', nan, '2013-03-18', nan, '2014-03-27', nan, nan, nan, nan, nan, nan, nan, nan, nan, '2013-05-23', nan, nan, nan, nan, nan, '2013-03-25', nan, nan, nan, '2013-02-13', nan, nan, '2014-05-21', nan, nan, '2013-07-08', nan, nan, nan, nan, '2013-11-01', nan, nan, nan, nan, nan, nan, nan, nan, '2013-08-28', nan, nan, nan, nan, '2013-09-09', nan, nan, nan, nan, nan, nan, nan, nan, nan, nan, nan, '2013-08-05', nan, nan, nan, nan, nan, nan, nan, '2013-10-09', '2012-11-07', nan, nan, nan, nan, nan, nan, nan, nan, nan, nan, nan, nan, nan, nan, nan, nan, nan, nan, nan, nan, nan, nan, nan, nan, nan, '2012-05-15', nan, nan, nan, nan, nan, nan, nan, nan, nan, nan, nan, nan, '2013-09-09', nan, '2013-02-07', nan, nan, nan, nan, '2013-01-30', nan, nan, nan, nan, nan, nan, nan, nan, nan, '2013-08-02', '2013-09-09', nan, nan, nan, '2013-01-11', nan, nan, nan, nan, nan, '2013-05-09', nan, nan, nan, nan, nan, nan, nan, '2014-10-22', nan, nan, nan, nan, nan, nan, nan, nan, nan, nan, nan, nan, nan, nan, nan, nan, '2014-03-15', nan, nan, '2014-01-23', nan, nan, '2008-11-13', '2014-06-27', nan, nan, nan, nan, nan, nan, nan, nan, nan, nan, nan, nan, nan, nan, '2013-10-23', nan, '2014-01-31', nan, nan, nan, nan, nan, nan, nan, '2013-04-03', nan, nan, nan, nan, '2013-01-25', nan, nan, nan, nan, '2014-05-01', '2013-01-10', '2013-03-15', nan, '2013-01-20', nan, nan, nan, nan, nan, nan, nan, nan, nan, '2013-03-21', nan, nan, nan, '2013-08-02', nan, '2013-03-06', nan, '2012-10-22', nan, nan, nan, '2013-12-20', nan, nan, '2013-03-11', nan, nan, '2014-07-16', nan, nan, '2013-08-29', nan, nan, '2013-02-06', '2012-04-17', nan, nan, nan, nan, nan, '2013-09-07', nan, nan, nan, nan, nan, nan, '2013-09-24', nan, '2013-10-12', nan, '2013-02-10', nan, nan, nan, nan, nan, nan, nan, nan, nan, nan, nan, nan, nan, nan, nan, nan, nan, nan, nan, nan, nan, nan, '2013-03-06', '2013-10-07', nan, nan, '2013-05-31', nan, nan, '2013-02-06', nan, '2013-03-14', nan, '2014-06-19', nan, nan, nan, nan, '2013-03-11', nan, nan, nan, nan, nan, nan, nan, nan, nan, nan, nan, nan, nan, nan, nan, nan, nan, '2012-07-17', nan, nan, nan, nan, nan, nan, nan, nan, nan, nan, nan, nan, nan, nan, '2014-01-12', nan, nan, nan, nan, nan, nan, nan, nan, nan, nan, nan, nan, nan, '2012-12-29', nan, nan, '2014-01-09', nan, nan, nan, nan, nan, nan, nan, nan, '2013-02-23', nan, nan, '2014-01-24', nan, nan, nan, nan, nan, nan, nan, nan, nan, nan, nan, nan, nan, nan, nan, nan, nan, nan, nan, '2013-12-11', nan, nan, '2013-12-22', nan, nan, nan, nan, nan, nan, nan, nan, nan, nan, nan, '2013-09-16', nan, nan, nan, nan, nan, nan, '2014-03-05', nan, nan, nan, nan, nan, nan, nan, '2013-03-28', nan, nan, nan, '2013-04-27', nan, '2013-03-12', nan, nan, nan, nan, nan, nan, nan, nan, nan, nan, nan, nan, '2013-02-14', nan, nan, nan, '2013-06-23', nan, nan, nan, nan, nan, nan, nan, nan, nan, nan, nan, '2014-04-16', nan, nan, nan, nan, nan, nan, nan, nan, nan, nan, nan, nan, nan, '2013-04-20', nan, nan, nan, '2013-10-29', nan, nan, nan, nan, nan, nan, nan, nan, nan, nan, nan, nan, '2013-05-21', nan, nan, nan, nan, nan, nan, nan, nan, nan, nan, nan, nan, nan, nan, nan, nan, nan, nan, '2012-12-31', nan, '2013-07-03', nan, nan, '2013-08-30', nan, nan, nan, nan, nan, nan, nan, nan, nan, nan, nan, nan, nan, nan, nan, nan, nan, nan, nan, nan, nan, '2013-11-06', nan, nan, nan, nan, nan, nan, nan, nan, nan, nan, nan, nan, nan, nan, nan, nan, nan, nan, nan, nan, nan, nan, nan, '2012-10-11', nan, nan, nan, nan, nan, nan, nan, nan, nan, nan, '2013-11-03', nan, nan, nan, nan, '2013-04-16', nan, nan, nan, nan, '2013-01-14', nan, nan, nan, nan, nan, '2013-09-25', nan, nan, nan, nan, nan, nan, nan, '2013-02-13', '2013-03-23', '2013-05-08', nan, nan, nan, '2013-09-23', nan, nan, nan, nan, nan, nan, nan, nan, nan, '2013-04-16', nan, nan, nan, nan, nan, nan, nan, nan, nan, nan, nan, nan, '2013-10-20', nan, nan, '2014-01-01', nan, nan, nan, nan, nan, nan, nan, nan, '2012-11-27', nan, nan, nan, nan, nan, '2013-09-05', nan, nan, nan, nan, nan, '2014-05-23', nan, nan, nan, nan, nan, nan, nan, nan, nan, nan, nan, '2013-01-13', nan, nan, '2012-12-13', nan, '2012-09-15', nan, nan, nan, nan, nan, nan, nan, nan, nan, nan, nan, nan, nan, nan, '2013-02-22', nan, nan, nan, nan, '2014-01-11', nan, nan, nan, '2013-03-04', '2013-09-06', nan, nan, '2013-12-30', nan, nan, nan, nan, nan, '2013-01-14', nan, nan, '2013-01-10', nan, '2013-02-04', nan, nan, nan, nan, '2012-12-20', nan, nan, nan, nan, nan, nan, nan, nan, nan, nan, nan, nan, nan, nan, nan, nan, nan, nan, nan, nan, nan, nan, nan, nan, '2013-02-07', nan, nan, nan, '2013-05-06', nan, nan, nan, nan, nan, nan, nan, nan, nan, nan, nan, nan, nan, '2000-10-13', nan, nan, nan, nan, nan, nan, nan, nan, nan, nan, nan, nan, nan, nan, nan, nan, nan, nan, nan, nan, nan, '2013-02-08', '2014-02-02', nan, '2013-08-19', nan, nan, nan, nan, nan, nan, '2014-03-21', nan, nan, nan, nan, nan, nan, nan, nan, nan, '2013-06-17', nan, nan, nan, nan, nan, nan, nan, nan, '2012-02-09', nan, nan, '2014-02-28', nan, nan, nan, nan, nan, nan, '2013-01-15', nan, nan, nan, nan, nan, '2014-01-22', nan, nan, nan, '2014-02-28', nan, nan, nan, '2013-01-15', nan, nan, nan, '2014-11-20', nan, '2013-09-22', nan, nan, '2014-01-05', nan, nan, nan, '2014-01-15', nan, nan, nan, nan, nan, nan, nan, nan, nan, nan, nan, nan, nan, nan, nan, nan, nan, nan, nan, nan, nan, nan, nan, nan, nan, nan, nan, nan, nan, nan, nan, nan, '2014-02-26', nan, nan, nan, nan, nan, '2013-09-24', '2013-02-12', nan, nan, '2013-05-16', nan, nan, '2014-10-06', nan, nan, nan, nan, nan, nan, nan, nan, nan, '2013-03-31', nan, nan, nan, nan, nan, nan, nan, nan, nan, nan, nan, nan, nan, nan, nan, nan, nan, nan, nan, nan, nan, '2013-01-29', nan, nan, '2014-02-22', nan, nan, nan, nan, nan, nan, nan, nan, nan, '2014-07-22', nan, nan, nan, '2012-10-11', nan, nan, nan, nan, nan, nan, '2004-11-01', nan, nan, nan, nan, nan, nan, nan, nan, nan, nan, nan, nan, nan, nan, '2014-01-16', nan, nan, nan, '2013-07-10', nan, nan, nan, nan, nan, nan, nan, nan, '2011-08-24', nan, nan, nan, nan, nan, nan, '2010-06-23', nan, nan, nan, nan, '2013-08-23', '2013-01-11', '2013-04-02', nan, '2014-12-02', nan, '2011-02-10', nan, nan, '2013-08-03', '2013-03-11', nan, nan, nan, nan, nan, '2013-05-14', nan, nan, nan, '2013-01-10', '2013-05-03', nan, nan, '2013-07-03', nan, nan, '2013-04-22', nan, '2013-11-30', nan, nan, nan, nan, nan, '2013-10-09', nan, nan, nan, nan, nan, nan, nan, nan, nan, nan, nan, nan, nan, nan, nan, nan, nan, nan, nan, nan, '2013-09-25', nan, '2013-05-15', nan, nan, nan, nan, '2013-01-15', '2013-04-23', nan, nan, nan, nan, nan, nan, nan, nan, nan, nan, '2013-11-05', '2014-06-10', nan, nan, nan, nan, nan, nan, nan, nan, nan, nan, nan, '2013-03-21', nan, nan, nan, nan, '2013-05-28', nan, nan, nan, '2013-12-09', '2013-02-14', nan, '2013-02-28', nan, nan, nan, nan, nan, nan, '2013-09-24', nan, nan, nan, nan, nan, nan, nan, nan, nan, '2012-01-22', nan, nan, nan, nan, nan, nan, nan, '2013-12-12', nan, nan, nan, '2013-06-15', nan, nan, nan, nan, nan, nan, nan, nan, '2013-01-01', nan, nan, nan, nan, nan, '2013-11-04', nan, nan, nan, nan, nan, nan, nan, nan, '2014-05-11', nan, nan, nan, nan, nan, nan, nan, nan, nan, nan, nan, '2013-09-09', nan, '2014-01-27', nan, nan, nan, '2013-01-23', nan, nan, nan, nan, nan, nan, '2013-09-23', nan, nan, '2013-08-25', '2013-01-23', nan, nan, nan, nan, nan, nan, nan, nan, nan, nan, nan, nan, nan, '2001-04-12', nan, '2014-02-10', nan, nan, nan, nan, '2014-02-12', nan, '2013-07-12', nan, nan, nan, '2014-04-15', nan, '2013-08-27', nan, nan, '2013-05-15', nan, '2014-02-05', nan, nan, nan, nan, nan, nan, nan, nan, nan, nan, '2014-08-13', nan, nan, nan, nan, nan, nan, '2014-01-16', nan, '2013-08-12', nan, nan, nan, nan, nan, '2013-03-19', nan, nan, nan, nan, nan, '2013-08-12', '2013-01-12', nan, nan, '2013-05-22', nan, nan, nan, nan, nan, nan, nan, nan, nan, nan, nan, nan, nan, nan, nan, nan, nan, nan, nan, '2014-12-23', nan, nan, nan, nan, nan, nan, nan, nan, nan, nan, nan, nan, nan, nan, nan, nan, nan, nan, nan, nan, nan, nan, nan, nan, nan, nan, nan, '2014-02-20', nan, nan, '2014-06-17', nan, nan, nan, nan, nan, nan, nan, nan, nan, nan, nan, nan, '2013-01-17', nan, nan, nan, nan, nan, nan, nan, nan, nan, nan, nan, nan, nan, nan, nan, nan, nan, nan, nan, nan, nan, nan, nan, nan, '2013-01-15', nan, nan, nan, nan, nan, nan, nan, nan, nan, nan, nan, nan, nan, nan, nan, nan, nan, nan, nan, nan, '2009-05-29', nan, nan, nan, nan, '2014-02-03', nan, nan, nan, nan, nan, nan, nan, nan, nan, nan, nan, '2013-05-15', nan, nan, nan, nan, nan, nan, nan, nan, nan, nan, nan, nan, nan, nan, nan, nan, nan, nan, nan, nan, nan, nan, nan, nan, nan, nan, nan, nan, '2013-11-07', nan, nan, nan, nan, nan, nan, nan, nan, nan, nan, nan, nan, nan, nan, nan, nan, nan, '2014-01-23', '1997-06-18', nan, nan, nan, nan, nan, nan, nan, nan, nan, nan, nan, '2013-04-06', '2014-07-30', nan, nan, nan, nan, nan, nan, nan, nan, nan, '2013-10-13', nan, '2013-10-22', nan, '2013-01-22', nan, nan, '2014-03-04', nan, '2013-08-29', nan, nan, nan, nan, nan, nan, nan, nan, nan, '2012-05-14', nan, nan, nan, nan, nan, '2014-02-05', nan, nan, '2013-04-11', nan, nan, nan, nan, '2013-10-20', nan, nan, nan, nan, nan, nan, nan, nan, nan, nan, nan, nan, nan, nan, nan, '2014-02-13', nan, nan, nan, nan, '2013-08-09', nan, nan, nan, nan, '2013-01-26', '2013-12-12', nan, nan, nan, nan, nan, nan, nan, nan, nan, nan, nan, nan, nan, nan, nan, '2013-04-17', nan, nan, nan, nan, nan, nan, nan, nan, nan, nan, nan, nan, '2014-01-30', nan, nan, nan, '2013-11-01', nan, nan, '2014-01-24', '2014-01-18', nan, nan, nan, nan, nan, '2013-01-12', nan, nan, nan, nan, nan, nan, nan, nan, nan, nan, nan, nan, nan, nan, nan, '2013-10-10', nan, nan, nan, nan, nan, nan, nan, '2013-02-16', nan, nan, nan, nan, '2014-09-17', nan, nan, nan, nan, nan, nan, nan, nan, '2013-03-03', nan, nan, nan, nan, nan, nan, nan, nan, '2013-03-24', nan, nan, nan, nan, nan, '2009-06-10', nan, nan, '2013-09-11', '2013-12-06', nan, nan, nan, nan, nan, nan, nan, nan, '2013-05-08', '2008-06-02', nan, nan, '2014-08-03', nan, nan, nan, nan, nan, nan, nan, nan, nan, nan, nan, nan, '2013-05-17', nan, nan, '2013-08-28', nan, nan, nan, nan, nan, nan, nan, nan, nan, nan, nan, nan, nan, '2013-05-29', '2013-01-11', nan, nan, nan, nan, nan, nan, '2014-02-18', nan, nan, nan, '2013-06-06', nan, nan, nan, nan, nan, nan, nan, nan, '2013-03-12', '2013-07-31', nan, nan, nan, nan, nan, nan, nan, nan, nan, nan, '2014-03-27', nan, nan, nan, nan, '2013-09-23', nan, nan, nan, nan, '2013-01-27', nan, nan, nan, nan, '2013-01-10', nan, nan, nan, nan, '2013-01-28', nan, '2013-02-20', '2013-04-20', nan, nan, nan, nan, nan, nan, nan, nan, nan, nan, nan, nan, nan, nan, nan, nan, nan, '2014-02-28', nan, nan, nan, nan, nan, nan, nan, nan, '2010-04-12', nan, nan, nan, nan, nan, nan, nan, nan, nan, nan, nan, '2013-03-15', nan, nan, nan, '2013-01-21', nan, nan, nan, nan, nan, nan, nan, nan, nan, nan, nan, nan, nan, nan, nan, nan, nan, '2013-02-22', nan, nan, nan, nan, nan, nan, nan, nan, nan, nan, nan, nan, nan, nan, nan, nan, '2012-11-28', nan, '2013-07-19', nan, nan, nan, nan, nan, nan, nan, nan, nan, '2013-08-27', nan, nan, nan, '2013-04-21', nan, nan, nan, nan, nan, nan, nan, nan, nan, nan, nan, '2014-01-07', nan, nan, nan, nan, nan, '2013-01-09', '2013-01-07', nan, nan, nan, '2013-08-27', nan, nan, nan, nan, nan, nan, nan, nan, '2014-03-14', '2013-11-10', nan, '2012-08-10', nan, nan, nan, nan, nan, nan, nan, nan, nan, nan, nan, nan, nan, nan, nan, nan, nan, nan, '2013-10-24', nan, nan, nan, nan, nan, nan, nan, nan, nan, nan, nan, nan, nan, '2014-01-10', nan, '2012-04-12', nan, '2014-01-31', nan, '2013-10-29', nan, nan, nan, nan, nan, nan, '2013-02-12', nan, nan, nan, nan, nan, nan, nan, nan, nan, nan, nan, nan, nan, nan, nan, nan, nan, '2012-02-22', nan, nan, '2013-01-11', nan, nan, nan, nan, nan, nan, '2014-06-27', nan, nan, nan, nan, nan, nan, '2014-03-10', nan, nan, nan, nan, nan, nan, nan, nan, nan, nan, nan, nan, '2013-10-23', '2013-04-16', '2013-07-24', nan, '2013-03-06', nan, '2013-04-15', nan, nan, nan, nan, nan, nan, nan, nan, nan, nan, nan, nan, '2014-03-10', nan, nan, '2013-10-17', nan, nan, nan, nan, '2013-11-26', nan, nan, nan, nan, nan, '2013-04-02', '2013-02-26', nan, nan, nan, nan, nan, nan, '2013-05-21', nan, nan, nan, nan, nan, nan, nan, nan, nan, nan, nan, nan, nan, nan, nan, nan, nan, '2012-11-16', nan, nan, nan, nan, '2012-06-14', nan, nan, nan, nan, nan, nan, '2013-03-25', nan, nan, nan, nan, nan, nan, nan, nan, '2014-06-12', nan, nan, nan, nan, nan, nan, nan, nan, nan, nan, nan, nan, nan, nan, nan, nan, nan, nan, nan, nan, '2013-01-10', nan, nan, nan, nan, nan, nan, nan, nan, nan, nan, nan, nan, nan, nan, nan, nan, nan, nan, nan, nan, '2013-09-09', nan, nan, nan, nan, nan, nan, nan, nan, '2014-04-25', nan, nan, nan, nan, nan, nan, nan, '2013-07-10', '2013-01-16', nan, nan, nan, nan, nan, nan, nan, nan, nan, nan, nan, nan, '2014-03-14', nan, nan, nan, nan, nan, nan, '2006-10-12', nan, nan, nan, nan, nan, '2013-05-26', nan, nan, nan, nan, nan, nan, nan, nan, nan, nan, nan, nan, nan, nan, nan, nan, nan, nan, nan, nan, '2013-03-14', nan, nan, nan, nan, nan, nan, nan, nan, nan, nan, nan, nan, nan, nan, nan, nan, nan, nan, nan, nan, nan, '2013-09-26', nan, nan, nan, nan, nan, nan, nan, nan, nan, nan, '2012-03-21', nan, nan, nan, nan, nan, nan, '2013-08-19', nan, nan, nan, nan, nan, nan, '2013-03-21', nan, nan, nan, '2013-03-27', nan, nan, nan, nan, nan, '2013-11-14', nan, nan, nan, nan, '2013-05-20', nan, '2012-07-18', nan, '2014-06-25', nan, nan, nan, nan, nan, nan, nan, nan, nan, nan, '2013-10-11', nan, nan, nan, nan, nan, nan, nan, nan, nan, nan, nan, '2012-12-06', nan, nan, nan, nan, nan, nan, nan, '2014-11-03', nan, nan, nan, nan, nan, '2013-01-06', nan, nan, nan, nan, nan, '2013-02-06', nan, nan, nan, nan, nan, '2013-12-01', nan, '2013-08-05', nan, nan, nan, '2013-04-13', nan, '2014-03-23', nan, '2013-03-21', nan, nan, nan, nan, nan, nan, nan, nan, nan, nan, '2013-10-30', '2013-01-08']\n"
     ]
    }
   ],
   "source": [
    "print(list(df.c_arrest_date))"
   ]
  },
  {
   "cell_type": "code",
   "execution_count": 26,
   "id": "d5d9bff2",
   "metadata": {},
   "outputs": [
    {
     "data": {
      "text/plain": [
       "0       0\n",
       "1       0\n",
       "2       1\n",
       "3       1\n",
       "4       0\n",
       "       ..\n",
       "6109    0\n",
       "6110    0\n",
       "6111    0\n",
       "6112    0\n",
       "6113    1\n",
       "Name: is_recid, Length: 6114, dtype: int64"
      ]
     },
     "execution_count": 26,
     "metadata": {},
     "output_type": "execute_result"
    }
   ],
   "source": [
    "#a = str(df.columns)[7:-24].replace(\"'\", \"\").replace(\" \", \"\").replace(\"\\n\", \"\").split(',')\n",
    "#a\n",
    "df.is_recid"
   ]
  },
  {
   "cell_type": "markdown",
   "id": "949975cd",
   "metadata": {},
   "source": [
    "#### about the person\n",
    "'id' -> just id of the column\n",
    "'name' -> name \n",
    "'sex' -> gender\n",
    "'dob' -> date of birth\n",
    "'age' -> age (?in 2015)\n",
    "'race' -> race\n",
    "\n",
    "#### about the crime'c_jail_in' -> date arrested\n",
    "'c_jail_out' -> date released \n",
    "'c_case_number' -> case number ()\n",
    "'c_offense_date' -> date of the crime\n",
    "'c_arrest_date' -> date of the arrest\n",
    "'c_charge_degree' -> F: felony or M: misdemeanor\n",
    "'c_charge_desc' -> Description of the charge\n",
    "\n",
    "#### about piror crimes / enconters with law\n",
    "'juv_fel_count' -> juvenile felony count \n",
    "'juv_misd_count' -> juvenile misdemeanor count \n",
    "'juv_other_count' -> others as a juvenile count\n",
    "'priors_count' -> number of priors\n",
    "\n",
    "#### about Correctional Offender Management Profiling for Alternative Sanctions (COMPAS) ->see wikipedia\n",
    "'compas_screening_date' -> date of the test\n",
    "\n",
    "#assess 'Risk of Recidivism'\n",
    "'type_of_assessment' -> all are 'Risk of Recidivism'\n",
    "'decile_score' -> like percentile but 10. risk of recidivism\n",
    "'score_text' -> low mideum or high risk of recidivism\n",
    "\n",
    "#assess 'Risk of Violence'\n",
    "'v_type_of_assessment' -> all are 'Risk of Violence'\n",
    "'v_decile_score' -> like percentile but 10. risk of violence\n",
    "'v_score_text' -> low mideum or high risk of\n",
    "\n",
    "#### \n",
    "'is_recid' -> commited a crime before\n",
    "'r_case_number' -> case number\n",
    "'r_offense_date' -> date of last time a crime was commited \n",
    "'r_charge_degree' -> check for levels online \n",
    "'r_charge_desc' -> \n",
    "'is_violent_recid' -> \n",
    "\n",
    "####\n",
    "'vr_case_number' -> \n",
    "'vr_offense_date' -> \n",
    "'vr_charge_degree' -> \n",
    "'vr_charge_desc' -> \n",
    "'two_year_recid' -> commit a crime in the 2 years before\n",
    "\n",
    "\n",
    "I want to know more about:\n",
    "compas results\n",
    "- c_charge_degree   V\n",
    "\n",
    "\n"
   ]
  },
  {
   "cell_type": "code",
   "execution_count": 8,
   "id": "e05cbb4b",
   "metadata": {
    "collapsed": true
   },
   "outputs": [
    {
     "data": {
      "text/plain": [
       "id                       6114\n",
       "name                     6079\n",
       "sex                         2\n",
       "dob                      4804\n",
       "age                        65\n",
       "race                        6\n",
       "c_jail_in                5854\n",
       "c_jail_out               5835\n",
       "c_case_number            6096\n",
       "c_offense_date            888\n",
       "c_arrest_date             529\n",
       "c_charge_degree             2\n",
       "c_charge_desc             408\n",
       "juv_fel_count               9\n",
       "juv_misd_count             10\n",
       "juv_other_count             8\n",
       "priors_count               37\n",
       "compas_screening_date     684\n",
       "type_of_assessment          1\n",
       "decile_score               10\n",
       "score_text                  3\n",
       "v_type_of_assessment        1\n",
       "v_decile_score             10\n",
       "v_score_text                3\n",
       "is_recid                    2\n",
       "r_case_number            2931\n",
       "r_offense_date           1033\n",
       "r_charge_degree            10\n",
       "r_charge_desc             313\n",
       "is_violent_recid            2\n",
       "vr_case_number            694\n",
       "vr_offense_date           512\n",
       "vr_charge_degree            9\n",
       "vr_charge_desc             75\n",
       "two_year_recid              2\n",
       "dtype: int64"
      ]
     },
     "execution_count": 8,
     "metadata": {},
     "output_type": "execute_result"
    }
   ],
   "source": [
    "df.nunique()"
   ]
  },
  {
   "cell_type": "code",
   "execution_count": 9,
   "id": "ad1eae88",
   "metadata": {},
   "outputs": [
    {
     "data": {
      "text/plain": [
       "sex\n",
       "Male      4937\n",
       "Female    1177\n",
       "Name: count, dtype: int64"
      ]
     },
     "execution_count": 9,
     "metadata": {},
     "output_type": "execute_result"
    }
   ],
   "source": [
    "df.sex.value_counts()"
   ]
  },
  {
   "cell_type": "code",
   "execution_count": 10,
   "id": "b630fff2",
   "metadata": {
    "collapsed": true
   },
   "outputs": [
    {
     "data": {
      "image/png": "[encoded data removed]",
      "text/plain": [
       "<Figure size 640x480 with 1 Axes>"
      ]
     },
     "metadata": {},
     "output_type": "display_data"
    }
   ],
   "source": [
    "race_counts = df.race.value_counts()\n",
    "\n",
    "race_counts.plot(kind='bar', color='skyblue', edgecolor='black')\n",
    "\n",
    "plt.title('Race')\n",
    "plt.xlabel('Race')\n",
    "plt.ylabel('Frequency')\n",
    "\n",
    "plt.show()"
   ]
  },
  {
   "cell_type": "code",
   "execution_count": 11,
   "id": "89f4468c",
   "metadata": {
    "collapsed": true
   },
   "outputs": [
    {
     "data": {
      "image/png": "[encoded data removed]",
      "text/plain": [
       "<Figure size 640x480 with 1 Axes>"
      ]
     },
     "metadata": {},
     "output_type": "display_data"
    }
   ],
   "source": [
    "bins = range(0, 100, 5)\n",
    "plt.hist(df['age'], bins=bins, edgecolor='black')\n",
    "\n",
    "plt.title('Age')\n",
    "plt.xlabel('Age')\n",
    "plt.ylabel('Frequency')\n",
    "#plt.yscale('log')\n",
    "\n",
    "plt.show()"
   ]
  },
  {
   "cell_type": "code",
   "execution_count": 12,
   "id": "c8e879a0",
   "metadata": {},
   "outputs": [
    {
     "data": {
      "text/plain": [
       "r_charge_desc\n",
       "Driving License Suspended            217\n",
       "Possess Cannabis/20 Grams Or Less    215\n",
       "Resist/Obstruct W/O Violence         166\n",
       "Battery                              160\n",
       "Operating W/O Valid License          149\n",
       "                                    ... \n",
       "Transport Prostitution                 1\n",
       "Sex Battery Deft 18+/Vict 11-          1\n",
       "Aggrav Child Abuse-Agg Battery         1\n",
       "Open Carrying Of Weapon                1\n",
       "Fail to Report Change/Residence        1\n",
       "Name: count, Length: 313, dtype: int64"
      ]
     },
     "execution_count": 12,
     "metadata": {},
     "output_type": "execute_result"
    }
   ],
   "source": [
    "df.r_charge_desc.value_counts()"
   ]
  },
  {
   "cell_type": "code",
   "execution_count": null,
   "id": "e6644cc1",
   "metadata": {},
   "outputs": [],
   "source": []
  },
  {
   "cell_type": "code",
   "execution_count": null,
   "id": "cac4752d",
   "metadata": {},
   "outputs": [],
   "source": []
  },
  {
   "cell_type": "code",
   "execution_count": null,
   "id": "d75757f7",
   "metadata": {},
   "outputs": [],
   "source": []
  },
  {
   "cell_type": "code",
   "execution_count": null,
   "id": "a77810b2",
   "metadata": {},
   "outputs": [],
   "source": []
  },
  {
   "cell_type": "code",
   "execution_count": 13,
   "id": "0549bb3a",
   "metadata": {},
   "outputs": [],
   "source": [
    "df2 = pd.DataFrame()\n",
    "df2['date_in'] = pd.to_datetime(df['c_jail_in'])\n",
    "df2['date_out'] = pd.to_datetime(df['c_jail_out'])\n",
    "df2['date_diff'] = -(df2.date_in - df2.date_out).dt.days\n"
   ]
  },
  {
   "cell_type": "code",
   "execution_count": 14,
   "id": "bb7192fe",
   "metadata": {},
   "outputs": [
    {
     "data": {
      "text/plain": [
       "0        2.0\n",
       "1        2.0\n",
       "2       -0.0\n",
       "3       -0.0\n",
       "4        2.0\n",
       "        ... \n",
       "6109     2.0\n",
       "6110     6.0\n",
       "6111     2.0\n",
       "6112    38.0\n",
       "6113     2.0\n",
       "Name: date_diff, Length: 6114, dtype: float64"
      ]
     },
     "execution_count": 14,
     "metadata": {},
     "output_type": "execute_result"
    }
   ],
   "source": [
    "df2.date_diff"
   ]
  },
  {
   "cell_type": "code",
   "execution_count": null,
   "id": "92c4a828",
   "metadata": {},
   "outputs": [],
   "source": []
  },
  {
   "cell_type": "markdown",
   "id": "ec5990b9",
   "metadata": {},
   "source": [
    "### Try to figure out if c_jail_in is the same as c_arrest_date()\n",
    "it isn't \n",
    "why?"
   ]
  },
  {
   "cell_type": "code",
   "execution_count": 15,
   "id": "ea99ffca",
   "metadata": {},
   "outputs": [],
   "source": [
    "df3 = pd.DataFrame()\n",
    "df3['c_jail_in'] = df['c_jail_in']\n",
    "df3['c_arrest_date'] = df['c_arrest_date']\n"
   ]
  },
  {
   "cell_type": "code",
   "execution_count": 16,
   "id": "704e9028",
   "metadata": {},
   "outputs": [
    {
     "data": {
      "text/html": [
       "<div>\n",
       "<style scoped>\n",
       "    .dataframe tbody tr th:only-of-type {\n",
       "        vertical-align: middle;\n",
       "    }\n",
       "\n",
       "    .dataframe tbody tr th {\n",
       "        vertical-align: top;\n",
       "    }\n",
       "\n",
       "    .dataframe thead th {\n",
       "        text-align: right;\n",
       "    }\n",
       "</style>\n",
       "<table border=\"1\" class=\"dataframe\">\n",
       "  <thead>\n",
       "    <tr style=\"text-align: right;\">\n",
       "      <th></th>\n",
       "      <th>c_jail_in</th>\n",
       "      <th>c_arrest_date</th>\n",
       "      <th>is_same</th>\n",
       "    </tr>\n",
       "  </thead>\n",
       "  <tbody>\n",
       "    <tr>\n",
       "      <th>0</th>\n",
       "      <td>2013-01-05</td>\n",
       "      <td>NaT</td>\n",
       "      <td>False</td>\n",
       "    </tr>\n",
       "    <tr>\n",
       "      <th>1</th>\n",
       "      <td>2013-04-02</td>\n",
       "      <td>NaT</td>\n",
       "      <td>False</td>\n",
       "    </tr>\n",
       "    <tr>\n",
       "      <th>2</th>\n",
       "      <td>2014-10-31</td>\n",
       "      <td>NaT</td>\n",
       "      <td>False</td>\n",
       "    </tr>\n",
       "    <tr>\n",
       "      <th>3</th>\n",
       "      <td>2014-01-23</td>\n",
       "      <td>2014-01-23</td>\n",
       "      <td>True</td>\n",
       "    </tr>\n",
       "    <tr>\n",
       "      <th>4</th>\n",
       "      <td>2013-12-08</td>\n",
       "      <td>NaT</td>\n",
       "      <td>False</td>\n",
       "    </tr>\n",
       "    <tr>\n",
       "      <th>...</th>\n",
       "      <td>...</td>\n",
       "      <td>...</td>\n",
       "      <td>...</td>\n",
       "    </tr>\n",
       "    <tr>\n",
       "      <th>6109</th>\n",
       "      <td>2013-08-18</td>\n",
       "      <td>NaT</td>\n",
       "      <td>False</td>\n",
       "    </tr>\n",
       "    <tr>\n",
       "      <th>6110</th>\n",
       "      <td>2013-03-23</td>\n",
       "      <td>NaT</td>\n",
       "      <td>False</td>\n",
       "    </tr>\n",
       "    <tr>\n",
       "      <th>6111</th>\n",
       "      <td>2013-09-29</td>\n",
       "      <td>NaT</td>\n",
       "      <td>False</td>\n",
       "    </tr>\n",
       "    <tr>\n",
       "      <th>6112</th>\n",
       "      <td>2013-10-30</td>\n",
       "      <td>2013-10-30</td>\n",
       "      <td>True</td>\n",
       "    </tr>\n",
       "    <tr>\n",
       "      <th>6113</th>\n",
       "      <td>2013-01-08</td>\n",
       "      <td>2013-01-08</td>\n",
       "      <td>True</td>\n",
       "    </tr>\n",
       "  </tbody>\n",
       "</table>\n",
       "<p>6114 rows × 3 columns</p>\n",
       "</div>"
      ],
      "text/plain": [
       "       c_jail_in c_arrest_date  is_same\n",
       "0     2013-01-05           NaT    False\n",
       "1     2013-04-02           NaT    False\n",
       "2     2014-10-31           NaT    False\n",
       "3     2014-01-23    2014-01-23     True\n",
       "4     2013-12-08           NaT    False\n",
       "...          ...           ...      ...\n",
       "6109  2013-08-18           NaT    False\n",
       "6110  2013-03-23           NaT    False\n",
       "6111  2013-09-29           NaT    False\n",
       "6112  2013-10-30    2013-10-30     True\n",
       "6113  2013-01-08    2013-01-08     True\n",
       "\n",
       "[6114 rows x 3 columns]"
      ]
     },
     "execution_count": 16,
     "metadata": {},
     "output_type": "execute_result"
    }
   ],
   "source": [
    "df3['c_jail_in'] = pd.to_datetime(df['c_jail_in']).dt.date\n",
    "df3['c_arrest_date'] = pd.to_datetime(df['c_arrest_date'])\n",
    "df3['is_same'] = df3['c_jail_in'] == df3['c_arrest_date']\n",
    "df3"
   ]
  },
  {
   "cell_type": "code",
   "execution_count": 19,
   "id": "249e63ce",
   "metadata": {},
   "outputs": [
    {
     "data": {
      "text/html": [
       "<div>\n",
       "<style scoped>\n",
       "    .dataframe tbody tr th:only-of-type {\n",
       "        vertical-align: middle;\n",
       "    }\n",
       "\n",
       "    .dataframe tbody tr th {\n",
       "        vertical-align: top;\n",
       "    }\n",
       "\n",
       "    .dataframe thead th {\n",
       "        text-align: right;\n",
       "    }\n",
       "</style>\n",
       "<table border=\"1\" class=\"dataframe\">\n",
       "  <thead>\n",
       "    <tr style=\"text-align: right;\">\n",
       "      <th></th>\n",
       "      <th>c_jail_in</th>\n",
       "      <th>c_arrest_date</th>\n",
       "      <th>is_same</th>\n",
       "    </tr>\n",
       "  </thead>\n",
       "  <tbody>\n",
       "    <tr>\n",
       "      <th>3</th>\n",
       "      <td>2014-01-23</td>\n",
       "      <td>2014-01-23</td>\n",
       "      <td>True</td>\n",
       "    </tr>\n",
       "    <tr>\n",
       "      <th>15</th>\n",
       "      <td>2013-04-04</td>\n",
       "      <td>2013-04-04</td>\n",
       "      <td>True</td>\n",
       "    </tr>\n",
       "    <tr>\n",
       "      <th>18</th>\n",
       "      <td>2014-01-28</td>\n",
       "      <td>2013-05-03</td>\n",
       "      <td>False</td>\n",
       "    </tr>\n",
       "    <tr>\n",
       "      <th>21</th>\n",
       "      <td>2013-09-08</td>\n",
       "      <td>2013-09-08</td>\n",
       "      <td>True</td>\n",
       "    </tr>\n",
       "    <tr>\n",
       "      <th>28</th>\n",
       "      <td>2016-02-08</td>\n",
       "      <td>2010-05-20</td>\n",
       "      <td>False</td>\n",
       "    </tr>\n",
       "    <tr>\n",
       "      <th>...</th>\n",
       "      <td>...</td>\n",
       "      <td>...</td>\n",
       "      <td>...</td>\n",
       "    </tr>\n",
       "    <tr>\n",
       "      <th>6093</th>\n",
       "      <td>2013-08-05</td>\n",
       "      <td>2013-08-05</td>\n",
       "      <td>True</td>\n",
       "    </tr>\n",
       "    <tr>\n",
       "      <th>6097</th>\n",
       "      <td>2013-04-13</td>\n",
       "      <td>2013-04-13</td>\n",
       "      <td>True</td>\n",
       "    </tr>\n",
       "    <tr>\n",
       "      <th>6099</th>\n",
       "      <td>2014-03-23</td>\n",
       "      <td>2014-03-23</td>\n",
       "      <td>True</td>\n",
       "    </tr>\n",
       "    <tr>\n",
       "      <th>6112</th>\n",
       "      <td>2013-10-30</td>\n",
       "      <td>2013-10-30</td>\n",
       "      <td>True</td>\n",
       "    </tr>\n",
       "    <tr>\n",
       "      <th>6113</th>\n",
       "      <td>2013-01-08</td>\n",
       "      <td>2013-01-08</td>\n",
       "      <td>True</td>\n",
       "    </tr>\n",
       "  </tbody>\n",
       "</table>\n",
       "<p>871 rows × 3 columns</p>\n",
       "</div>"
      ],
      "text/plain": [
       "       c_jail_in c_arrest_date  is_same\n",
       "3     2014-01-23    2014-01-23     True\n",
       "15    2013-04-04    2013-04-04     True\n",
       "18    2014-01-28    2013-05-03    False\n",
       "21    2013-09-08    2013-09-08     True\n",
       "28    2016-02-08    2010-05-20    False\n",
       "...          ...           ...      ...\n",
       "6093  2013-08-05    2013-08-05     True\n",
       "6097  2013-04-13    2013-04-13     True\n",
       "6099  2014-03-23    2014-03-23     True\n",
       "6112  2013-10-30    2013-10-30     True\n",
       "6113  2013-01-08    2013-01-08     True\n",
       "\n",
       "[871 rows x 3 columns]"
      ]
     },
     "execution_count": 19,
     "metadata": {},
     "output_type": "execute_result"
    }
   ],
   "source": [
    "df_with_values = df3[df3['c_jail_in'].notnull() & df3['c_arrest_date'].notnull()]\n",
    "df_with_values\n"
   ]
  },
  {
   "cell_type": "code",
   "execution_count": 22,
   "id": "d57a7b56",
   "metadata": {},
   "outputs": [
    {
     "data": {
      "text/plain": [
       "is_same\n",
       "True     624\n",
       "False    247\n",
       "Name: count, dtype: int64"
      ]
     },
     "execution_count": 22,
     "metadata": {},
     "output_type": "execute_result"
    }
   ],
   "source": [
    "df_with_values.is_same.value_counts()\n",
    "# 28.4% are not the same"
   ]
  },
  {
   "cell_type": "code",
   "execution_count": 23,
   "id": "bd9686f7",
   "metadata": {},
   "outputs": [
    {
     "data": {
      "text/plain": [
       "0.2835820895522388"
      ]
     },
     "execution_count": 23,
     "metadata": {},
     "output_type": "execute_result"
    }
   ],
   "source": [
    "247/(247+624)"
   ]
  },
  {
   "cell_type": "code",
   "execution_count": 25,
   "id": "33e33ab3",
   "metadata": {},
   "outputs": [
    {
     "data": {
      "text/plain": [
       "260"
      ]
     },
     "execution_count": 25,
     "metadata": {},
     "output_type": "execute_result"
    }
   ],
   "source": [
    "df3.c_jail_in.isnull().sum()"
   ]
  },
  {
   "cell_type": "code",
   "execution_count": null,
   "id": "39523517",
   "metadata": {},
   "outputs": [],
   "source": []
  },
  {
   "cell_type": "code",
   "execution_count": null,
   "id": "1f0d75fd",
   "metadata": {},
   "outputs": [],
   "source": []
  },
  {
   "cell_type": "code",
   "execution_count": null,
   "id": "943a43f4",
   "metadata": {},
   "outputs": [],
   "source": []
  },
  {
   "cell_type": "code",
   "execution_count": null,
   "id": "c3e4c296",
   "metadata": {},
   "outputs": [],
   "source": []
  },
  {
   "cell_type": "code",
   "execution_count": null,
   "id": "a65442c0",
   "metadata": {},
   "outputs": [],
   "source": []
  },
  {
   "cell_type": "code",
   "execution_count": null,
   "id": "3b1861c6",
   "metadata": {},
   "outputs": [],
   "source": []
  },
  {
   "cell_type": "code",
   "execution_count": null,
   "id": "18026ca0",
   "metadata": {},
   "outputs": [],
   "source": []
  },
  {
   "cell_type": "markdown",
   "id": "1711c58b",
   "metadata": {},
   "source": [
    "# try to figure out relation between two_year_recid and is_recid"
   ]
  },
  {
   "cell_type": "code",
   "execution_count": 52,
   "id": "37dc1c39",
   "metadata": {},
   "outputs": [],
   "source": [
    "df4 = pd.DataFrame()\n",
    "df4['same'] = df.is_recid == df.two_year_recid"
   ]
  },
  {
   "cell_type": "code",
   "execution_count": 53,
   "id": "42e0171f",
   "metadata": {},
   "outputs": [
    {
     "data": {
      "text/plain": [
       "same \n",
       "True     5935\n",
       "False     179\n",
       "Name: count, dtype: int64"
      ]
     },
     "execution_count": 53,
     "metadata": {},
     "output_type": "execute_result"
    }
   ],
   "source": [
    "df4.value_counts()"
   ]
  },
  {
   "cell_type": "code",
   "execution_count": 54,
   "id": "9ec5314b",
   "metadata": {},
   "outputs": [
    {
     "data": {
      "text/plain": [
       "0.029277069021916912"
      ]
     },
     "execution_count": 54,
     "metadata": {},
     "output_type": "execute_result"
    }
   ],
   "source": [
    "179/6114"
   ]
  },
  {
   "cell_type": "markdown",
   "id": "f00d3004",
   "metadata": {},
   "source": [
    "então não é igual mas é muito parecido\n",
    "\n",
    "se eu tiver esta informação deve ser fácil"
   ]
  },
  {
   "cell_type": "code",
   "execution_count": 60,
   "id": "0052924c",
   "metadata": {},
   "outputs": [
    {
     "data": {
      "text/plain": [
       "0"
      ]
     },
     "execution_count": 60,
     "metadata": {},
     "output_type": "execute_result"
    }
   ],
   "source": [
    "df4['tyr'] = df.two_year_recid\n",
    "df4['isr'] = df.is_recid\n",
    "df_falses = df4[df4.same == False]\n",
    "df_falses.tyr.sum()"
   ]
  },
  {
   "cell_type": "code",
   "execution_count": null,
   "id": "95ed9c27",
   "metadata": {},
   "outputs": [],
   "source": []
  },
  {
   "cell_type": "code",
   "execution_count": null,
   "id": "6c4a8c7a",
   "metadata": {},
   "outputs": [],
   "source": []
  },
  {
   "cell_type": "code",
   "execution_count": null,
   "id": "0c0aeb3e",
   "metadata": {},
   "outputs": [],
   "source": []
  },
  {
   "cell_type": "code",
   "execution_count": null,
   "id": "2c4dc781",
   "metadata": {},
   "outputs": [],
   "source": []
  },
  {
   "cell_type": "code",
   "execution_count": null,
   "id": "1c10edbf",
   "metadata": {},
   "outputs": [],
   "source": []
  },
  {
   "cell_type": "code",
   "execution_count": null,
   "id": "fc30871f",
   "metadata": {},
   "outputs": [],
   "source": []
  },
  {
   "cell_type": "code",
   "execution_count": null,
   "id": "aa2c7b2c",
   "metadata": {},
   "outputs": [],
   "source": []
  },
  {
   "cell_type": "code",
   "execution_count": null,
   "id": "f5afc9f6",
   "metadata": {},
   "outputs": [],
   "source": []
  },
  {
   "cell_type": "markdown",
   "id": "0cf1a093",
   "metadata": {},
   "source": [
    "### Questions to ask:\n",
    " - what is compas? -> Correctional Offender Management Profiling for Alternative Sanctions -> thought to be race biased by ones but refuted by others -> test it myself \n",
    " \n",
    " - is it possible to provide a description of what the columns are and the value that can be found in them? -> done\n",
    "\n",
    " - is there any information that can be taken from the case number?\n",
    " - what is c_arrest_date? -> \n",
    " - what is others juv count? -> \n",
    " - recidivism refers to the same crime or any crime? -> any crime\n",
    " \n",
    " \n",
    " - is two_year_recid information about the future of the "
   ]
  },
  {
   "cell_type": "markdown",
   "id": "f2943f9a",
   "metadata": {},
   "source": [
    "### Transformations to make \n",
    "\n",
    "#### Transformations \n",
    " - rename weirdly named columns\n",
    " - remove index\n",
    " - set id as index\n",
    " - select even number per category ???\n",
    " - remove type_of_assessment\n",
    " - remove v_type_of_assessment \n",
    " - think about what to do with arrest date due to so many missing \n",
    " - figure out what to do with the c_arrest_date (remove?)\n",
    "\n",
    "#### Columns to create:\n",
    " - time in jail\n",
    " - age arrested\n",
    " - age released\n",
    " - time between crime and jail_in\n",
    " - jail time < 5 days  -> might be useless, might be redundant\n",
    " - "
   ]
  },
  {
   "cell_type": "markdown",
   "id": "73f8f17e",
   "metadata": {},
   "source": []
  }
 ],
 "metadata": {
  "kernelspec": {
   "display_name": "Python 3 (ipykernel)",
   "language": "python",
   "name": "python3"
  },
  "language_info": {
   "codemirror_mode": {
    "name": "ipython",
    "version": 3
   },
   "file_extension": ".py",
   "mimetype": "text/x-python",
   "name": "python",
   "nbconvert_exporter": "python",
   "pygments_lexer": "ipython3",
   "version": "3.10.12"
  }
 },
 "nbformat": 4,
 "nbformat_minor": 5
}
