{
 "cells": [
  {
   "cell_type": "markdown",
   "id": "3fa92cc9",
   "metadata": {},
   "source": [
    "# Import "
   ]
  },
  {
   "cell_type": "code",
   "execution_count": 2,
   "id": "92d91230",
   "metadata": {},
   "outputs": [
    {
     "name": "stderr",
     "output_type": "stream",
     "text": [
      "/usr/lib/python3/dist-packages/scipy/__init__.py:146: UserWarning: A NumPy version >=1.17.3 and <1.25.0 is required for this version of SciPy (detected version 1.26.2\n",
      "  warnings.warn(f\"A NumPy version >={np_minversion} and <{np_maxversion}\"\n"
     ]
    }
   ],
   "source": [
    "import pandas as pd\n",
    "import numpy as np\n",
    "import os\n",
    "import matplotlib.pyplot as plt\n",
    "\n",
    "from sklearn.base import BaseEstimator, TransformerMixin\n",
    "from sklearn.pipeline import Pipeline\n",
    "\n",
    "#import spacy\n",
    "#import numpy as np\n",
    "#import string\n",
    "#import matplotlib.pyplot as plt\n",
    "#import seaborn as snsa\n",
    "#import nltk\n",
    "\n",
    "from sklearn.preprocessing import RobustScaler\n",
    "\n",
    "\n",
    "# from sklearn.ensemble import RandomForestClassifier\n",
    "# from sklearn.pipeline import Pipeline, FeatureUnion\n",
    "# from sklearn.model_selection import train_test_split\n",
    "# from sklearn.base import BaseEstimator, TransformerMixin\n",
    "# from sklearn.feature_extraction.text import TfidfVectorizer\n",
    "# from sklearn.model_selection import train_test_split\n",
    "# from sklearn.feature_extraction.text import TfidfVectorizer\n",
    "# from sklearn.metrics import f1_score\n"
   ]
  },
  {
   "cell_type": "code",
   "execution_count": null,
   "id": "cf48bc0f",
   "metadata": {},
   "outputs": [],
   "source": []
  },
  {
   "cell_type": "code",
   "execution_count": 3,
   "id": "53f2a587",
   "metadata": {},
   "outputs": [],
   "source": [
    "path = 'data'\n",
    "filename = 'two-years-recid.csv'\n",
    "\n",
    "df = pd.read_csv(os.path.join(path, filename))"
   ]
  },
  {
   "cell_type": "code",
   "execution_count": 4,
   "id": "7f35afdb",
   "metadata": {},
   "outputs": [
    {
     "data": {
      "text/html": [
       "<div>\n",
       "<style scoped>\n",
       "    .dataframe tbody tr th:only-of-type {\n",
       "        vertical-align: middle;\n",
       "    }\n",
       "\n",
       "    .dataframe tbody tr th {\n",
       "        vertical-align: top;\n",
       "    }\n",
       "\n",
       "    .dataframe thead th {\n",
       "        text-align: right;\n",
       "    }\n",
       "</style>\n",
       "<table border=\"1\" class=\"dataframe\">\n",
       "  <thead>\n",
       "    <tr style=\"text-align: right;\">\n",
       "      <th></th>\n",
       "      <th>id</th>\n",
       "      <th>name</th>\n",
       "      <th>sex</th>\n",
       "      <th>dob</th>\n",
       "      <th>age</th>\n",
       "      <th>race</th>\n",
       "      <th>c_jail_in</th>\n",
       "      <th>c_jail_out</th>\n",
       "      <th>c_case_number</th>\n",
       "      <th>c_offense_date</th>\n",
       "      <th>...</th>\n",
       "      <th>r_case_number</th>\n",
       "      <th>r_offense_date</th>\n",
       "      <th>r_charge_degree</th>\n",
       "      <th>r_charge_desc</th>\n",
       "      <th>is_violent_recid</th>\n",
       "      <th>vr_case_number</th>\n",
       "      <th>vr_offense_date</th>\n",
       "      <th>vr_charge_degree</th>\n",
       "      <th>vr_charge_desc</th>\n",
       "      <th>two_year_recid</th>\n",
       "    </tr>\n",
       "  </thead>\n",
       "  <tbody>\n",
       "    <tr>\n",
       "      <th>0</th>\n",
       "      <td>1</td>\n",
       "      <td>steven lux</td>\n",
       "      <td>Male</td>\n",
       "      <td>1953-06-15</td>\n",
       "      <td>62</td>\n",
       "      <td>Caucasian</td>\n",
       "      <td>2013-01-05 04:35:31</td>\n",
       "      <td>2013-01-07 03:18:03</td>\n",
       "      <td>13000208CF10A</td>\n",
       "      <td>2013-01-05</td>\n",
       "      <td>...</td>\n",
       "      <td>NaN</td>\n",
       "      <td>NaN</td>\n",
       "      <td>NaN</td>\n",
       "      <td>NaN</td>\n",
       "      <td>0</td>\n",
       "      <td>NaN</td>\n",
       "      <td>NaN</td>\n",
       "      <td>NaN</td>\n",
       "      <td>NaN</td>\n",
       "      <td>0</td>\n",
       "    </tr>\n",
       "    <tr>\n",
       "      <th>1</th>\n",
       "      <td>2</td>\n",
       "      <td>andre small</td>\n",
       "      <td>Male</td>\n",
       "      <td>1987-10-01</td>\n",
       "      <td>28</td>\n",
       "      <td>African-American</td>\n",
       "      <td>2013-04-02 12:18:46</td>\n",
       "      <td>2013-04-04 07:54:22</td>\n",
       "      <td>13006354MM10A</td>\n",
       "      <td>2013-04-02</td>\n",
       "      <td>...</td>\n",
       "      <td>NaN</td>\n",
       "      <td>NaN</td>\n",
       "      <td>NaN</td>\n",
       "      <td>NaN</td>\n",
       "      <td>0</td>\n",
       "      <td>NaN</td>\n",
       "      <td>NaN</td>\n",
       "      <td>NaN</td>\n",
       "      <td>NaN</td>\n",
       "      <td>0</td>\n",
       "    </tr>\n",
       "    <tr>\n",
       "      <th>2</th>\n",
       "      <td>3</td>\n",
       "      <td>willie gray</td>\n",
       "      <td>Male</td>\n",
       "      <td>1959-01-12</td>\n",
       "      <td>57</td>\n",
       "      <td>African-American</td>\n",
       "      <td>2014-10-31 12:02:01</td>\n",
       "      <td>2014-10-31 01:47:05</td>\n",
       "      <td>14040148MU10A</td>\n",
       "      <td>2014-10-30</td>\n",
       "      <td>...</td>\n",
       "      <td>15043364TC20A</td>\n",
       "      <td>2015-07-23</td>\n",
       "      <td>(M2)</td>\n",
       "      <td>Driving License Suspended</td>\n",
       "      <td>0</td>\n",
       "      <td>NaN</td>\n",
       "      <td>NaN</td>\n",
       "      <td>NaN</td>\n",
       "      <td>NaN</td>\n",
       "      <td>1</td>\n",
       "    </tr>\n",
       "  </tbody>\n",
       "</table>\n",
       "<p>3 rows × 35 columns</p>\n",
       "</div>"
      ],
      "text/plain": [
       "   id         name   sex         dob  age              race  \\\n",
       "0   1   steven lux  Male  1953-06-15   62         Caucasian   \n",
       "1   2  andre small  Male  1987-10-01   28  African-American   \n",
       "2   3  willie gray  Male  1959-01-12   57  African-American   \n",
       "\n",
       "             c_jail_in           c_jail_out  c_case_number c_offense_date  \\\n",
       "0  2013-01-05 04:35:31  2013-01-07 03:18:03  13000208CF10A     2013-01-05   \n",
       "1  2013-04-02 12:18:46  2013-04-04 07:54:22  13006354MM10A     2013-04-02   \n",
       "2  2014-10-31 12:02:01  2014-10-31 01:47:05  14040148MU10A     2014-10-30   \n",
       "\n",
       "   ...  r_case_number r_offense_date r_charge_degree  \\\n",
       "0  ...            NaN            NaN             NaN   \n",
       "1  ...            NaN            NaN             NaN   \n",
       "2  ...  15043364TC20A     2015-07-23            (M2)   \n",
       "\n",
       "               r_charge_desc  is_violent_recid  vr_case_number  \\\n",
       "0                        NaN                 0             NaN   \n",
       "1                        NaN                 0             NaN   \n",
       "2  Driving License Suspended                 0             NaN   \n",
       "\n",
       "   vr_offense_date vr_charge_degree vr_charge_desc  two_year_recid  \n",
       "0              NaN              NaN            NaN               0  \n",
       "1              NaN              NaN            NaN               0  \n",
       "2              NaN              NaN            NaN               1  \n",
       "\n",
       "[3 rows x 35 columns]"
      ]
     },
     "execution_count": 4,
     "metadata": {},
     "output_type": "execute_result"
    }
   ],
   "source": [
    "df.head(3)"
   ]
  },
  {
   "cell_type": "code",
   "execution_count": 5,
   "id": "3bc088ba",
   "metadata": {},
   "outputs": [],
   "source": [
    "# df.set_index('id', inplace=True)\n",
    "# df.drop(columns=['type_of_assessment', 'v_type_of_assessment', 'c_arrest_date', 'c_offense_date'], inplace=True)\n",
    "# df.head(3)"
   ]
  },
  {
   "cell_type": "markdown",
   "id": "87cb89cb",
   "metadata": {},
   "source": [
    "# Making the classes"
   ]
  },
  {
   "cell_type": "code",
   "execution_count": null,
   "id": "406d4cdb",
   "metadata": {},
   "outputs": [],
   "source": [
    "############################################################\n",
    "# Generic changes\n",
    "############################################################\n",
    "\n",
    "# Set id as index\n",
    "class SetIndex(BaseEstimator, TransformerMixin):\n",
    "    def __init__(self, i_col):\n",
    "        self.i_col = i_col\n",
    "        \n",
    "    def fit(self, X, y=None):\n",
    "        return self\n",
    "    \n",
    "    def transform(self, X):\n",
    "        # assuming X is a DataFrame\n",
    "        X = X.set_index('id')\n",
    "        return X\n"
   ]
  },
  {
   "cell_type": "code",
   "execution_count": 6,
   "id": "01781c14",
   "metadata": {},
   "outputs": [],
   "source": [
    "############################################################\n",
    "# Create new features\n",
    "############################################################\n",
    "\n",
    "# Jail time\n",
    "class JailTime(BaseEstimator, TransformerMixin):\n",
    "    def __init__(self):\n",
    "        pass\n",
    "    \n",
    "    def fit(self, X, y=None):\n",
    "        return self\n",
    "    \n",
    "    def transform(self, X):\n",
    "        # assuming X is a DataFramed\n",
    "        X['c_jail_out'] = pd.to_datetime(X['c_jail_out'])\n",
    "        X['c_jail_in'] = pd.to_datetime(X['c_jail_in'])\n",
    "        \n",
    "        X['jail_time'] = (X['c_jail_out'] - X['c_jail_in']).dt.days + 1\n",
    "        return X    \n",
    "\n",
    "# Age jailed\n",
    "class AgeJailed(BaseEstimator, TransformerMixin):\n",
    "    def __init__(self):\n",
    "        pass\n",
    "    \n",
    "    def fit(self, X, y=None):\n",
    "        return self\n",
    "    \n",
    "    def transform(self, X):\n",
    "        X['dob'] = pd.to_datetime(X['dob'])\n",
    "        X['c_jail_in'] = pd.to_datetime(X['c_jail_in'])\n",
    "        \n",
    "        X['age_jailed'] = ( (X['c_jail_in'] - X['dob']).dt.days + 1 ) // 365.25\n",
    "        return X\n",
    "    \n"
   ]
  },
  {
   "cell_type": "code",
   "execution_count": null,
   "id": "6952a958",
   "metadata": {},
   "outputs": [],
   "source": [
    "############################################################\n",
    "# Generic changes\n",
    "############################################################\n",
    "\n",
    "# Drop ununsed columns\n",
    "class DropColumns(BaseEstimator, TransformerMixin):\n",
    "    def __init__(self, columns):\n",
    "        self.columns = columns\n",
    "\n",
    "    def fit(self, X, y=None):\n",
    "        return self\n",
    "\n",
    "    def transform(self, X):\n",
    "        # assuming X is a DataFrame\n",
    "        X = X.drop(columns=self.columns)\n",
    "        return X"
   ]
  },
  {
   "cell_type": "code",
   "execution_count": 7,
   "id": "4e29f297",
   "metadata": {},
   "outputs": [],
   "source": [
    "############################################################\n",
    "# Generic changes\n",
    "############################################################\n",
    "\n",
    "index_column = 'id'\n",
    "index_pl = Pipeline([\n",
    "    ('set_index', SetIndex(index_column))\n",
    "])\n"
   ]
  },
  {
   "cell_type": "code",
   "execution_count": null,
   "id": "d60a9692",
   "metadata": {},
   "outputs": [],
   "source": [
    "############################################################\n",
    "# Create new features\n",
    "############################################################\n",
    "\n",
    "jail_time_pl = Pipeline([\n",
    "    ('jail_time', JailTime())\n",
    "])\n",
    "\n",
    "age_jailed_pl = Pipeline([\n",
    "    ('age_jailed', AgeJailed())\n",
    "])"
   ]
  },
  {
   "cell_type": "code",
   "execution_count": null,
   "id": "bae9e18a",
   "metadata": {},
   "outputs": [],
   "source": [
    "############################################################\n",
    "# Generic changes\n",
    "############################################################\n",
    "\n",
    "columns_to_drop = [\n",
    "    'name',                   \n",
    "    'dob',\n",
    "    'type_of_assessment', \n",
    "    'v_type_of_assessment', \n",
    "    'c_arrest_date', \n",
    "    'c_offense_date', \n",
    "    'c_jail_in', \n",
    "    'c_jail_out'\n",
    "]\n",
    "drop_pl = Pipeline([\n",
    "    ('drop_columns', DropColumns(columns_to_drop))\n",
    "])\n"
   ]
  },
  {
   "cell_type": "code",
   "execution_count": null,
   "id": "e7717462",
   "metadata": {},
   "outputs": [],
   "source": [
    "pipeline = Pipeline([\n",
    "    ('index', index_pl),\n",
    "    ()\n",
    "])"
   ]
  },
  {
   "cell_type": "code",
   "execution_count": null,
   "id": "b7e47332",
   "metadata": {},
   "outputs": [],
   "source": [
    "numerical_feature"
   ]
  },
  {
   "cell_type": "markdown",
   "id": "f98a9f27",
   "metadata": {},
   "source": [
    "## To do\n",
    "\n",
    "choose numerical features: \n",
    " - run them through an inputer (median???)\n",
    " - run them through robust scaller\n",
    " \n",
    "choose categorical features: \n",
    " - run them through an inputer????\n",
    " - run them through OneHotEncoder\n",
    " \n",
    "choose features that go through to the training model\n",
    "\n",
    "fit a logitical regression"
   ]
  },
  {
   "cell_type": "markdown",
   "id": "8257c4ba",
   "metadata": {},
   "source": [
    "try other methodes"
   ]
  },
  {
   "cell_type": "markdown",
   "id": "37782fe4",
   "metadata": {},
   "source": [
    "imputer for jail time: median\n"
   ]
  },
  {
   "cell_type": "code",
   "execution_count": null,
   "id": "4d83795d",
   "metadata": {},
   "outputs": [],
   "source": []
  },
  {
   "cell_type": "code",
   "execution_count": null,
   "id": "b2aff6bf",
   "metadata": {},
   "outputs": [],
   "source": []
  },
  {
   "cell_type": "code",
   "execution_count": null,
   "id": "0dfb936a",
   "metadata": {},
   "outputs": [],
   "source": []
  },
  {
   "cell_type": "code",
   "execution_count": null,
   "id": "88977b7d",
   "metadata": {},
   "outputs": [],
   "source": []
  },
  {
   "cell_type": "code",
   "execution_count": null,
   "id": "41381802",
   "metadata": {},
   "outputs": [],
   "source": []
  },
  {
   "cell_type": "code",
   "execution_count": null,
   "id": "8d3adc7f",
   "metadata": {},
   "outputs": [],
   "source": []
  }
 ],
 "metadata": {
  "kernelspec": {
   "display_name": "Python 3 (ipykernel)",
   "language": "python",
   "name": "python3"
  },
  "language_info": {
   "codemirror_mode": {
    "name": "ipython",
    "version": 3
   },
   "file_extension": ".py",
   "mimetype": "text/x-python",
   "name": "python",
   "nbconvert_exporter": "python",
   "pygments_lexer": "ipython3",
   "version": "3.10.12"
  }
 },
 "nbformat": 4,
 "nbformat_minor": 5
}
